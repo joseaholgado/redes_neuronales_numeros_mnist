{
  "nbformat": 4,
  "nbformat_minor": 0,
  "metadata": {
    "colab": {
      "provenance": [],
      "gpuType": "T4"
    },
    "kernelspec": {
      "name": "python3",
      "display_name": "Python 3"
    },
    "language_info": {
      "name": "python"
    },
    "accelerator": "GPU"
  },
  "cells": [
    {
      "cell_type": "markdown",
      "source": [
        "Vamos a crear una red neuronal pra tratar con un conjunto mucho más grande, el datase MNIST de dígitos. Veremos que el tiempo de cómputo se incrementa y que se hace necesario el uso de GPU, el cual hace Keras por nosotros."
      ],
      "metadata": {
        "id": "7ZpVs5rKwy4L"
      }
    },
    {
      "cell_type": "markdown",
      "source": [
        "# Conjuntos MNIST de dígitos\n",
        "\n",
        "Son 70.000 imágenes de dígitos manuscritos del 0 al 9. Tamaño es 28x28, en escala de grises. El conjunto se divide en 60.000 imágenes para train y 10.000\n",
        "para test.\n",
        "Vamos a crear una red neuronal que será de \"ver\", pero con ahora, sin usar operadores avanzados, es decir, convolución (CNN Convolutional Neural Nertwork)"
      ],
      "metadata": {
        "id": "dYPBWCn4xr2A"
      }
    },
    {
      "cell_type": "code",
      "execution_count": 1,
      "metadata": {
        "id": "59qhVs8vwej_"
      },
      "outputs": [],
      "source": [
        "import tensorflow as tf\n",
        "from tensorflow.keras.models import Model\n",
        "from tensorflow.keras.layers import Input, Dense, Flatten\n",
        "from tensorflow.keras.optimizers import SGD\n",
        "from tensorflow.keras.datasets import mnist\n",
        "from sklearn.model_selection import train_test_split\n",
        "import matplotlib.pyplot as plt\n",
        "import numpy as np\n",
        "from tensorflow.keras.utils import to_categorical\n",
        "\n"
      ]
    },
    {
      "cell_type": "code",
      "source": [
        "# 1️⃣ Cargar el dataset MNIST\n",
        "(X_train, y_train), (X_test, y_test) = mnist.load_data()"
      ],
      "metadata": {
        "id": "P0jbsOOVzd6d"
      },
      "execution_count": 2,
      "outputs": []
    },
    {
      "cell_type": "code",
      "source": [
        "# El método shape nos devuelve la forma del conjunto. 60.000 imágenes de 28x28\n",
        "print(\"shape: \", X_train.shape)"
      ],
      "metadata": {
        "colab": {
          "base_uri": "https://localhost:8080/"
        },
        "id": "k1OGDfPezt8L",
        "outputId": "6ca199d1-c728-4abc-d46f-ac0f869854f6"
      },
      "execution_count": 3,
      "outputs": [
        {
          "output_type": "stream",
          "name": "stdout",
          "text": [
            "shape:  (60000, 28, 28)\n"
          ]
        }
      ]
    },
    {
      "cell_type": "markdown",
      "source": [
        "Vemos que cada pixel es un byte con rang de 0 a 255 en formato entero. Esta escala no es adecuada para una ANN, así que habría que normalizar. Vamos a hacer una normalización en el rango -0.5 a 0.5. Y convertir en reales."
      ],
      "metadata": {
        "id": "fNqRjJf63F2r"
      }
    },
    {
      "cell_type": "code",
      "source": [
        "# 2️⃣ Normalización de los datos\n",
        "\n",
        "X_train = X_train.astype('float32')\n",
        "X_test = X_test.astype(\"float32\")\n",
        "\n",
        "X_train /= 255 # Escalar a uun rango entre 0 y 1\n",
        "X_test /= 255 # Escalar a uun rango entre 0 y 1\n",
        "\n",
        "X_train-= 0.5 # Desplazar\n",
        "X_test -=0.5"
      ],
      "metadata": {
        "id": "qFbbCKvO3rDj"
      },
      "execution_count": 4,
      "outputs": []
    },
    {
      "cell_type": "code",
      "source": [
        "print(\"Max value: \", max(X_train[125].reshape(784)))\n",
        "print(\"Max value: \", min(X_train[125].reshape(784)))"
      ],
      "metadata": {
        "colab": {
          "base_uri": "https://localhost:8080/"
        },
        "id": "6zhZPYC040R6",
        "outputId": "6140a118-9433-4d45-9eb9-11bbb14783b3"
      },
      "execution_count": 5,
      "outputs": [
        {
          "output_type": "stream",
          "name": "stdout",
          "text": [
            "Max value:  0.5\n",
            "Max value:  -0.5\n"
          ]
        }
      ]
    },
    {
      "cell_type": "code",
      "source": [
        "# 3️⃣ Dividir el conjunto de entrenamiento en entrenamiento (80%) y validación (20%)\n",
        "X_train, X_val, y_train, y_val = train_test_split(X_train, y_train, test_size=0.2, random_state=42)\n"
      ],
      "metadata": {
        "id": "fJEy82Y-oo1Y"
      },
      "execution_count": 6,
      "outputs": []
    },
    {
      "cell_type": "code",
      "source": [
        "# Mostrar las nuevas formas de los conjuntos\n",
        "print(\"Entrenamiento:\", X_train.shape)\n",
        "print(\"Validación:\", X_val.shape)\n",
        "print(\"Prueba:\", X_test.shape)"
      ],
      "metadata": {
        "colab": {
          "base_uri": "https://localhost:8080/"
        },
        "id": "di4yBkK4orp8",
        "outputId": "cbeba56c-2e81-46fc-fd4f-6da0d2e8eb0e"
      },
      "execution_count": 7,
      "outputs": [
        {
          "output_type": "stream",
          "name": "stdout",
          "text": [
            "Entrenamiento: (48000, 28, 28)\n",
            "Validación: (12000, 28, 28)\n",
            "Prueba: (10000, 28, 28)\n"
          ]
        }
      ]
    },
    {
      "cell_type": "code",
      "source": [
        "# Veamos una imagen cualquiera, por ejemplo la que tiene el índice 15\n",
        "image = np.array(X_train[125], dtype='float')\n",
        "plt.imshow(image, cmap='gray')\n",
        "plt.show()"
      ],
      "metadata": {
        "colab": {
          "base_uri": "https://localhost:8080/",
          "height": 430
        },
        "id": "wkDAvJZR0W3Y",
        "outputId": "2c5c652b-046d-4996-e821-795355c5dbcf"
      },
      "execution_count": 8,
      "outputs": [
        {
          "output_type": "display_data",
          "data": {
            "text/plain": [
              "<Figure size 640x480 with 1 Axes>"
            ],
            "image/png": "[encoded data removed]"
          },
          "metadata": {}
        }
      ]
    },
    {
      "cell_type": "code",
      "source": [
        "print(\"Label: \" , y_train[125])"
      ],
      "metadata": {
        "colab": {
          "base_uri": "https://localhost:8080/"
        },
        "id": "KjwexACJ0-cS",
        "outputId": "0fa67854-fe95-429b-c753-24611f8347b2"
      },
      "execution_count": 9,
      "outputs": [
        {
          "output_type": "stream",
          "name": "stdout",
          "text": [
            "Label:  3\n"
          ]
        }
      ]
    },
    {
      "cell_type": "markdown",
      "source": [
        "Ahora preparamos las etiquetas transformándolas a formato *one_hot*"
      ],
      "metadata": {
        "id": "GCcISGgv6Opu"
      }
    },
    {
      "cell_type": "code",
      "source": [
        "# Convertir etiquetas a One-Hot Encoding\n",
        "y_train = to_categorical(y_train, 10)\n",
        "y_val = to_categorical(y_val, 10)\n",
        "y_test = to_categorical(y_test, 10)\n",
        "\n",
        "print(\"Label: \", y_train[125])"
      ],
      "metadata": {
        "colab": {
          "base_uri": "https://localhost:8080/"
        },
        "id": "km9v8GxIRoCq",
        "outputId": "437fcea6-974e-4ea7-f109-6bd3e98a8c05"
      },
      "execution_count": 10,
      "outputs": [
        {
          "output_type": "stream",
          "name": "stdout",
          "text": [
            "Label:  [0. 0. 0. 1. 0. 0. 0. 0. 0. 0.]\n"
          ]
        }
      ]
    },
    {
      "cell_type": "code",
      "source": [
        "# Aplanamos los datos\n",
        "X_train = X_train.reshape(-1, 784)\n",
        "X_val = X_val.reshape(-1, 784)\n",
        "X_test = X_test.reshape(-1, 784)"
      ],
      "metadata": {
        "id": "1-h3laIy5XmS"
      },
      "execution_count": 11,
      "outputs": []
    },
    {
      "cell_type": "code",
      "source": [
        "print(\"Elemento 125: \", X_train[125])\n",
        "print(\"\")\n",
        "print(\"Min value: \", (X_train[125].reshape(784)))"
      ],
      "metadata": {
        "colab": {
          "base_uri": "https://localhost:8080/"
        },
        "id": "e4eLfZ2s2QCw",
        "outputId": "7d9e55ef-7a57-44a1-85fe-306baa21013d"
      },
      "execution_count": 12,
      "outputs": [
        {
          "output_type": "stream",
          "name": "stdout",
          "text": [
            "Elemento 125:  [-0.5        -0.5        -0.5        -0.5        -0.5        -0.5\n",
            " -0.5        -0.5        -0.5        -0.5        -0.5        -0.5\n",
            " -0.5        -0.5        -0.5        -0.5        -0.5        -0.5\n",
            " -0.5        -0.5        -0.5        -0.5        -0.5        -0.5\n",
            " -0.5        -0.5        -0.5        -0.5        -0.5        -0.5\n",
            " -0.5        -0.5        -0.5        -0.5        -0.5        -0.5\n",
            " -0.5        -0.5        -0.5        -0.5        -0.5        -0.5\n",
            " -0.5        -0.5        -0.5        -0.5        -0.5        -0.5\n",
            " -0.5        -0.5        -0.5        -0.5        -0.5        -0.5\n",
            " -0.5        -0.5        -0.5        -0.5        -0.5        -0.5\n",
            " -0.5        -0.5        -0.5        -0.5        -0.5        -0.5\n",
            " -0.5        -0.5        -0.5        -0.5        -0.5        -0.5\n",
            " -0.5        -0.5        -0.5        -0.5        -0.5        -0.5\n",
            " -0.5        -0.5        -0.5        -0.5        -0.5        -0.5\n",
            " -0.5        -0.5        -0.5        -0.5        -0.5        -0.5\n",
            " -0.5        -0.5        -0.5        -0.5        -0.5        -0.5\n",
            " -0.5        -0.5        -0.5        -0.5        -0.5        -0.5\n",
            " -0.5        -0.5        -0.5        -0.5        -0.5        -0.5\n",
            " -0.5        -0.5        -0.5        -0.5        -0.5        -0.5\n",
            " -0.5        -0.5        -0.5        -0.5        -0.5        -0.5\n",
            " -0.5        -0.5        -0.5        -0.5        -0.5        -0.5\n",
            " -0.5        -0.5        -0.5        -0.5        -0.5        -0.5\n",
            " -0.5        -0.5        -0.5        -0.5        -0.5        -0.5\n",
            " -0.5        -0.5        -0.5        -0.5        -0.5        -0.5\n",
            " -0.5        -0.5        -0.40980393 -0.02549019  0.3         0.49607843\n",
            "  0.5         0.18235296  0.11960787 -0.37058824 -0.5        -0.5\n",
            " -0.5        -0.5        -0.5        -0.5        -0.5        -0.5\n",
            " -0.5        -0.5        -0.5        -0.5        -0.5        -0.5\n",
            " -0.5        -0.5        -0.5        -0.5        -0.5        -0.25686276\n",
            "  0.31176472  0.3392157   0.00196081  0.00196081  0.22549021  0.4254902\n",
            "  0.46078432  0.2764706  -0.4764706  -0.5        -0.5        -0.5\n",
            " -0.5        -0.5        -0.5        -0.5        -0.5        -0.5\n",
            " -0.5        -0.5        -0.5        -0.5        -0.5        -0.5\n",
            " -0.5        -0.5        -0.5        -0.00588235  0.22941178 -0.39411765\n",
            " -0.5        -0.5        -0.5        -0.39803922  0.19803923  0.4254902\n",
            " -0.37843138 -0.5        -0.5        -0.5        -0.5        -0.5\n",
            " -0.5        -0.5        -0.5        -0.5        -0.5        -0.5\n",
            " -0.5        -0.5        -0.5        -0.5        -0.5        -0.5\n",
            " -0.5        -0.00588235  0.13529414 -0.5        -0.5        -0.5\n",
            " -0.5        -0.5         0.19803923  0.30392158 -0.5        -0.5\n",
            " -0.5        -0.5        -0.5        -0.5        -0.5        -0.5\n",
            " -0.5        -0.5        -0.5        -0.5        -0.5        -0.5\n",
            " -0.5        -0.5        -0.5        -0.5        -0.5        -0.24117646\n",
            " -0.16274509 -0.5        -0.5        -0.5        -0.5        -0.46078432\n",
            "  0.3392157  -0.01372549 -0.5        -0.5        -0.5        -0.5\n",
            " -0.5        -0.5        -0.5        -0.5        -0.5        -0.5\n",
            " -0.5        -0.5        -0.5        -0.5        -0.5        -0.5\n",
            " -0.5        -0.5        -0.5        -0.5        -0.5        -0.5\n",
            " -0.5        -0.5        -0.5        -0.29215688  0.49607843 -0.06862745\n",
            " -0.5        -0.5        -0.5        -0.5        -0.5        -0.5\n",
            " -0.5        -0.5        -0.5        -0.5        -0.5        -0.5\n",
            " -0.5        -0.5        -0.5        -0.5        -0.5        -0.5\n",
            " -0.5        -0.5        -0.5        -0.5        -0.5        -0.5\n",
            " -0.5         0.3156863   0.30784315 -0.46470588 -0.5        -0.5\n",
            " -0.5        -0.5        -0.5        -0.5        -0.5        -0.5\n",
            " -0.5        -0.5        -0.5        -0.5        -0.5        -0.5\n",
            " -0.5        -0.5        -0.5        -0.5        -0.5        -0.5\n",
            " -0.5        -0.5        -0.5        -0.5        -0.1235294   0.46470588\n",
            "  0.44117647  0.25686276 -0.04509804 -0.04509804 -0.39411765 -0.45294118\n",
            " -0.5        -0.5        -0.5        -0.5        -0.5        -0.5\n",
            " -0.5        -0.5        -0.5        -0.5        -0.5        -0.5\n",
            " -0.5        -0.5        -0.5        -0.5        -0.5        -0.5\n",
            " -0.46862745  0.09215689  0.48431373  0.34705883  0.17450982  0.17450982\n",
            "  0.17450982  0.27254903  0.49607843  0.37058824  0.08823532 -0.34705883\n",
            " -0.5        -0.5        -0.5        -0.5        -0.5        -0.5\n",
            " -0.5        -0.5        -0.5        -0.5        -0.5        -0.5\n",
            " -0.5        -0.5        -0.5        -0.5        -0.13529411  0.17843139\n",
            " -0.06862745 -0.40588236 -0.5        -0.5        -0.5        -0.48039216\n",
            " -0.38235295 -0.05294117  0.35882354  0.46470588  0.14313728 -0.42941177\n",
            " -0.5        -0.5        -0.5        -0.5        -0.5        -0.5\n",
            " -0.5        -0.5        -0.5        -0.5        -0.5        -0.5\n",
            " -0.5        -0.5        -0.5        -0.5        -0.5        -0.5\n",
            " -0.5        -0.5        -0.5        -0.5        -0.5        -0.5\n",
            " -0.44509804 -0.05686274  0.48039216  0.03333336 -0.49215686 -0.5\n",
            " -0.5        -0.5        -0.5        -0.5        -0.5        -0.5\n",
            " -0.5        -0.5        -0.5        -0.5        -0.5        -0.5\n",
            " -0.5        -0.5        -0.5        -0.5        -0.5        -0.5\n",
            " -0.5        -0.5        -0.5        -0.5        -0.5        -0.5\n",
            "  0.15882355  0.49607843 -0.27254903 -0.5        -0.5        -0.5\n",
            " -0.5        -0.5        -0.5        -0.5        -0.5        -0.5\n",
            " -0.5        -0.5        -0.5        -0.5        -0.5        -0.5\n",
            " -0.5        -0.5        -0.5        -0.5        -0.5        -0.5\n",
            " -0.5        -0.5        -0.5        -0.5        -0.45686275  0.43333334\n",
            " -0.00980392 -0.5        -0.5        -0.5        -0.5        -0.5\n",
            " -0.5        -0.5        -0.5        -0.5        -0.5        -0.5\n",
            " -0.5        -0.5        -0.5        -0.5        -0.5        -0.5\n",
            " -0.5        -0.5        -0.5        -0.5        -0.5        -0.5\n",
            " -0.5        -0.5        -0.4882353   0.2882353  -0.00980392 -0.5\n",
            " -0.5        -0.5        -0.5        -0.5        -0.5        -0.5\n",
            " -0.5        -0.5        -0.5        -0.5        -0.5        -0.5\n",
            " -0.5        -0.5        -0.5        -0.5        -0.5        -0.5\n",
            " -0.5        -0.5        -0.5        -0.5        -0.5        -0.5\n",
            " -0.1235294   0.49607843 -0.00980392 -0.5        -0.5        -0.5\n",
            " -0.5        -0.5        -0.5        -0.5        -0.5        -0.5\n",
            " -0.5        -0.5        -0.5        -0.5        -0.5        -0.5\n",
            " -0.44117647 -0.5        -0.5        -0.5        -0.5        -0.5\n",
            " -0.5        -0.5        -0.5        -0.5         0.27254903  0.49607843\n",
            " -0.20980391 -0.5        -0.5        -0.5        -0.5        -0.5\n",
            " -0.5        -0.5        -0.5        -0.5        -0.5        -0.5\n",
            " -0.5        -0.5        -0.5        -0.37058824  0.0411765  -0.49607843\n",
            " -0.5        -0.5        -0.5        -0.5        -0.5        -0.5\n",
            " -0.5        -0.28039217  0.35882354  0.28039217 -0.47254902 -0.5\n",
            " -0.5        -0.5        -0.5        -0.5        -0.5        -0.5\n",
            " -0.5        -0.5        -0.5        -0.5        -0.5        -0.5\n",
            " -0.5        -0.5         0.46078432  0.02549022 -0.41764706 -0.5\n",
            " -0.5        -0.5        -0.5        -0.3745098   0.13921571  0.46078432\n",
            "  0.13921571 -0.37058824 -0.5        -0.5        -0.5        -0.5\n",
            " -0.5        -0.5        -0.5        -0.5        -0.5        -0.5\n",
            " -0.5        -0.5        -0.5        -0.5        -0.5        -0.5\n",
            " -0.09215686  0.4137255   0.37843138  0.38627452  0.22156864  0.12352943\n",
            "  0.38627452  0.42941177  0.45686275 -0.03333333 -0.47254902 -0.5\n",
            " -0.5        -0.5        -0.5        -0.5        -0.5        -0.5\n",
            " -0.5        -0.5        -0.5        -0.5        -0.5        -0.5\n",
            " -0.5        -0.5        -0.5        -0.5        -0.5        -0.40588236\n",
            " -0.327451   -0.04117647  0.1156863   0.3745098   0.14313728 -0.0372549\n",
            " -0.32352942 -0.5        -0.5        -0.5        -0.5        -0.5\n",
            " -0.5        -0.5        -0.5        -0.5        -0.5        -0.5\n",
            " -0.5        -0.5        -0.5        -0.5        -0.5        -0.5\n",
            " -0.5        -0.5        -0.5        -0.5        -0.5        -0.5\n",
            " -0.5        -0.5        -0.5        -0.5        -0.5        -0.5\n",
            " -0.5        -0.5        -0.5        -0.5        -0.5        -0.5\n",
            " -0.5        -0.5        -0.5        -0.5        -0.5        -0.5\n",
            " -0.5        -0.5        -0.5        -0.5        -0.5        -0.5\n",
            " -0.5        -0.5        -0.5        -0.5        -0.5        -0.5\n",
            " -0.5        -0.5        -0.5        -0.5        -0.5        -0.5\n",
            " -0.5        -0.5        -0.5        -0.5        -0.5        -0.5\n",
            " -0.5        -0.5        -0.5        -0.5        -0.5        -0.5\n",
            " -0.5        -0.5        -0.5        -0.5        -0.5        -0.5\n",
            " -0.5        -0.5        -0.5        -0.5        -0.5        -0.5\n",
            " -0.5        -0.5        -0.5        -0.5        -0.5        -0.5\n",
            " -0.5        -0.5        -0.5        -0.5       ]\n",
            "\n",
            "Min value:  [-0.5        -0.5        -0.5        -0.5        -0.5        -0.5\n",
            " -0.5        -0.5        -0.5        -0.5        -0.5        -0.5\n",
            " -0.5        -0.5        -0.5        -0.5        -0.5        -0.5\n",
            " -0.5        -0.5        -0.5        -0.5        -0.5        -0.5\n",
            " -0.5        -0.5        -0.5        -0.5        -0.5        -0.5\n",
            " -0.5        -0.5        -0.5        -0.5        -0.5        -0.5\n",
            " -0.5        -0.5        -0.5        -0.5        -0.5        -0.5\n",
            " -0.5        -0.5        -0.5        -0.5        -0.5        -0.5\n",
            " -0.5        -0.5        -0.5        -0.5        -0.5        -0.5\n",
            " -0.5        -0.5        -0.5        -0.5        -0.5        -0.5\n",
            " -0.5        -0.5        -0.5        -0.5        -0.5        -0.5\n",
            " -0.5        -0.5        -0.5        -0.5        -0.5        -0.5\n",
            " -0.5        -0.5        -0.5        -0.5        -0.5        -0.5\n",
            " -0.5        -0.5        -0.5        -0.5        -0.5        -0.5\n",
            " -0.5        -0.5        -0.5        -0.5        -0.5        -0.5\n",
            " -0.5        -0.5        -0.5        -0.5        -0.5        -0.5\n",
            " -0.5        -0.5        -0.5        -0.5        -0.5        -0.5\n",
            " -0.5        -0.5        -0.5        -0.5        -0.5        -0.5\n",
            " -0.5        -0.5        -0.5        -0.5        -0.5        -0.5\n",
            " -0.5        -0.5        -0.5        -0.5        -0.5        -0.5\n",
            " -0.5        -0.5        -0.5        -0.5        -0.5        -0.5\n",
            " -0.5        -0.5        -0.5        -0.5        -0.5        -0.5\n",
            " -0.5        -0.5        -0.5        -0.5        -0.5        -0.5\n",
            " -0.5        -0.5        -0.5        -0.5        -0.5        -0.5\n",
            " -0.5        -0.5        -0.40980393 -0.02549019  0.3         0.49607843\n",
            "  0.5         0.18235296  0.11960787 -0.37058824 -0.5        -0.5\n",
            " -0.5        -0.5        -0.5        -0.5        -0.5        -0.5\n",
            " -0.5        -0.5        -0.5        -0.5        -0.5        -0.5\n",
            " -0.5        -0.5        -0.5        -0.5        -0.5        -0.25686276\n",
            "  0.31176472  0.3392157   0.00196081  0.00196081  0.22549021  0.4254902\n",
            "  0.46078432  0.2764706  -0.4764706  -0.5        -0.5        -0.5\n",
            " -0.5        -0.5        -0.5        -0.5        -0.5        -0.5\n",
            " -0.5        -0.5        -0.5        -0.5        -0.5        -0.5\n",
            " -0.5        -0.5        -0.5        -0.00588235  0.22941178 -0.39411765\n",
            " -0.5        -0.5        -0.5        -0.39803922  0.19803923  0.4254902\n",
            " -0.37843138 -0.5        -0.5        -0.5        -0.5        -0.5\n",
            " -0.5        -0.5        -0.5        -0.5        -0.5        -0.5\n",
            " -0.5        -0.5        -0.5        -0.5        -0.5        -0.5\n",
            " -0.5        -0.00588235  0.13529414 -0.5        -0.5        -0.5\n",
            " -0.5        -0.5         0.19803923  0.30392158 -0.5        -0.5\n",
            " -0.5        -0.5        -0.5        -0.5        -0.5        -0.5\n",
            " -0.5        -0.5        -0.5        -0.5        -0.5        -0.5\n",
            " -0.5        -0.5        -0.5        -0.5        -0.5        -0.24117646\n",
            " -0.16274509 -0.5        -0.5        -0.5        -0.5        -0.46078432\n",
            "  0.3392157  -0.01372549 -0.5        -0.5        -0.5        -0.5\n",
            " -0.5        -0.5        -0.5        -0.5        -0.5        -0.5\n",
            " -0.5        -0.5        -0.5        -0.5        -0.5        -0.5\n",
            " -0.5        -0.5        -0.5        -0.5        -0.5        -0.5\n",
            " -0.5        -0.5        -0.5        -0.29215688  0.49607843 -0.06862745\n",
            " -0.5        -0.5        -0.5        -0.5        -0.5        -0.5\n",
            " -0.5        -0.5        -0.5        -0.5        -0.5        -0.5\n",
            " -0.5        -0.5        -0.5        -0.5        -0.5        -0.5\n",
            " -0.5        -0.5        -0.5        -0.5        -0.5        -0.5\n",
            " -0.5         0.3156863   0.30784315 -0.46470588 -0.5        -0.5\n",
            " -0.5        -0.5        -0.5        -0.5        -0.5        -0.5\n",
            " -0.5        -0.5        -0.5        -0.5        -0.5        -0.5\n",
            " -0.5        -0.5        -0.5        -0.5        -0.5        -0.5\n",
            " -0.5        -0.5        -0.5        -0.5        -0.1235294   0.46470588\n",
            "  0.44117647  0.25686276 -0.04509804 -0.04509804 -0.39411765 -0.45294118\n",
            " -0.5        -0.5        -0.5        -0.5        -0.5        -0.5\n",
            " -0.5        -0.5        -0.5        -0.5        -0.5        -0.5\n",
            " -0.5        -0.5        -0.5        -0.5        -0.5        -0.5\n",
            " -0.46862745  0.09215689  0.48431373  0.34705883  0.17450982  0.17450982\n",
            "  0.17450982  0.27254903  0.49607843  0.37058824  0.08823532 -0.34705883\n",
            " -0.5        -0.5        -0.5        -0.5        -0.5        -0.5\n",
            " -0.5        -0.5        -0.5        -0.5        -0.5        -0.5\n",
            " -0.5        -0.5        -0.5        -0.5        -0.13529411  0.17843139\n",
            " -0.06862745 -0.40588236 -0.5        -0.5        -0.5        -0.48039216\n",
            " -0.38235295 -0.05294117  0.35882354  0.46470588  0.14313728 -0.42941177\n",
            " -0.5        -0.5        -0.5        -0.5        -0.5        -0.5\n",
            " -0.5        -0.5        -0.5        -0.5        -0.5        -0.5\n",
            " -0.5        -0.5        -0.5        -0.5        -0.5        -0.5\n",
            " -0.5        -0.5        -0.5        -0.5        -0.5        -0.5\n",
            " -0.44509804 -0.05686274  0.48039216  0.03333336 -0.49215686 -0.5\n",
            " -0.5        -0.5        -0.5        -0.5        -0.5        -0.5\n",
            " -0.5        -0.5        -0.5        -0.5        -0.5        -0.5\n",
            " -0.5        -0.5        -0.5        -0.5        -0.5        -0.5\n",
            " -0.5        -0.5        -0.5        -0.5        -0.5        -0.5\n",
            "  0.15882355  0.49607843 -0.27254903 -0.5        -0.5        -0.5\n",
            " -0.5        -0.5        -0.5        -0.5        -0.5        -0.5\n",
            " -0.5        -0.5        -0.5        -0.5        -0.5        -0.5\n",
            " -0.5        -0.5        -0.5        -0.5        -0.5        -0.5\n",
            " -0.5        -0.5        -0.5        -0.5        -0.45686275  0.43333334\n",
            " -0.00980392 -0.5        -0.5        -0.5        -0.5        -0.5\n",
            " -0.5        -0.5        -0.5        -0.5        -0.5        -0.5\n",
            " -0.5        -0.5        -0.5        -0.5        -0.5        -0.5\n",
            " -0.5        -0.5        -0.5        -0.5        -0.5        -0.5\n",
            " -0.5        -0.5        -0.4882353   0.2882353  -0.00980392 -0.5\n",
            " -0.5        -0.5        -0.5        -0.5        -0.5        -0.5\n",
            " -0.5        -0.5        -0.5        -0.5        -0.5        -0.5\n",
            " -0.5        -0.5        -0.5        -0.5        -0.5        -0.5\n",
            " -0.5        -0.5        -0.5        -0.5        -0.5        -0.5\n",
            " -0.1235294   0.49607843 -0.00980392 -0.5        -0.5        -0.5\n",
            " -0.5        -0.5        -0.5        -0.5        -0.5        -0.5\n",
            " -0.5        -0.5        -0.5        -0.5        -0.5        -0.5\n",
            " -0.44117647 -0.5        -0.5        -0.5        -0.5        -0.5\n",
            " -0.5        -0.5        -0.5        -0.5         0.27254903  0.49607843\n",
            " -0.20980391 -0.5        -0.5        -0.5        -0.5        -0.5\n",
            " -0.5        -0.5        -0.5        -0.5        -0.5        -0.5\n",
            " -0.5        -0.5        -0.5        -0.37058824  0.0411765  -0.49607843\n",
            " -0.5        -0.5        -0.5        -0.5        -0.5        -0.5\n",
            " -0.5        -0.28039217  0.35882354  0.28039217 -0.47254902 -0.5\n",
            " -0.5        -0.5        -0.5        -0.5        -0.5        -0.5\n",
            " -0.5        -0.5        -0.5        -0.5        -0.5        -0.5\n",
            " -0.5        -0.5         0.46078432  0.02549022 -0.41764706 -0.5\n",
            " -0.5        -0.5        -0.5        -0.3745098   0.13921571  0.46078432\n",
            "  0.13921571 -0.37058824 -0.5        -0.5        -0.5        -0.5\n",
            " -0.5        -0.5        -0.5        -0.5        -0.5        -0.5\n",
            " -0.5        -0.5        -0.5        -0.5        -0.5        -0.5\n",
            " -0.09215686  0.4137255   0.37843138  0.38627452  0.22156864  0.12352943\n",
            "  0.38627452  0.42941177  0.45686275 -0.03333333 -0.47254902 -0.5\n",
            " -0.5        -0.5        -0.5        -0.5        -0.5        -0.5\n",
            " -0.5        -0.5        -0.5        -0.5        -0.5        -0.5\n",
            " -0.5        -0.5        -0.5        -0.5        -0.5        -0.40588236\n",
            " -0.327451   -0.04117647  0.1156863   0.3745098   0.14313728 -0.0372549\n",
            " -0.32352942 -0.5        -0.5        -0.5        -0.5        -0.5\n",
            " -0.5        -0.5        -0.5        -0.5        -0.5        -0.5\n",
            " -0.5        -0.5        -0.5        -0.5        -0.5        -0.5\n",
            " -0.5        -0.5        -0.5        -0.5        -0.5        -0.5\n",
            " -0.5        -0.5        -0.5        -0.5        -0.5        -0.5\n",
            " -0.5        -0.5        -0.5        -0.5        -0.5        -0.5\n",
            " -0.5        -0.5        -0.5        -0.5        -0.5        -0.5\n",
            " -0.5        -0.5        -0.5        -0.5        -0.5        -0.5\n",
            " -0.5        -0.5        -0.5        -0.5        -0.5        -0.5\n",
            " -0.5        -0.5        -0.5        -0.5        -0.5        -0.5\n",
            " -0.5        -0.5        -0.5        -0.5        -0.5        -0.5\n",
            " -0.5        -0.5        -0.5        -0.5        -0.5        -0.5\n",
            " -0.5        -0.5        -0.5        -0.5        -0.5        -0.5\n",
            " -0.5        -0.5        -0.5        -0.5        -0.5        -0.5\n",
            " -0.5        -0.5        -0.5        -0.5        -0.5        -0.5\n",
            " -0.5        -0.5        -0.5        -0.5       ]\n"
          ]
        }
      ]
    },
    {
      "cell_type": "code",
      "source": [
        "print(\"Elemento 125: \", X_train[125])\n",
        "print(\"Elemento 125: \", X_train[125].reshape(784))"
      ],
      "metadata": {
        "colab": {
          "base_uri": "https://localhost:8080/"
        },
        "id": "1Q0F1g1h5vkf",
        "outputId": "d31d8b66-3110-4589-9004-a7cac618e064"
      },
      "execution_count": 13,
      "outputs": [
        {
          "output_type": "stream",
          "name": "stdout",
          "text": [
            "Elemento 125:  [-0.5        -0.5        -0.5        -0.5        -0.5        -0.5\n",
            " -0.5        -0.5        -0.5        -0.5        -0.5        -0.5\n",
            " -0.5        -0.5        -0.5        -0.5        -0.5        -0.5\n",
            " -0.5        -0.5        -0.5        -0.5        -0.5        -0.5\n",
            " -0.5        -0.5        -0.5        -0.5        -0.5        -0.5\n",
            " -0.5        -0.5        -0.5        -0.5        -0.5        -0.5\n",
            " -0.5        -0.5        -0.5        -0.5        -0.5        -0.5\n",
            " -0.5        -0.5        -0.5        -0.5        -0.5        -0.5\n",
            " -0.5        -0.5        -0.5        -0.5        -0.5        -0.5\n",
            " -0.5        -0.5        -0.5        -0.5        -0.5        -0.5\n",
            " -0.5        -0.5        -0.5        -0.5        -0.5        -0.5\n",
            " -0.5        -0.5        -0.5        -0.5        -0.5        -0.5\n",
            " -0.5        -0.5        -0.5        -0.5        -0.5        -0.5\n",
            " -0.5        -0.5        -0.5        -0.5        -0.5        -0.5\n",
            " -0.5        -0.5        -0.5        -0.5        -0.5        -0.5\n",
            " -0.5        -0.5        -0.5        -0.5        -0.5        -0.5\n",
            " -0.5        -0.5        -0.5        -0.5        -0.5        -0.5\n",
            " -0.5        -0.5        -0.5        -0.5        -0.5        -0.5\n",
            " -0.5        -0.5        -0.5        -0.5        -0.5        -0.5\n",
            " -0.5        -0.5        -0.5        -0.5        -0.5        -0.5\n",
            " -0.5        -0.5        -0.5        -0.5        -0.5        -0.5\n",
            " -0.5        -0.5        -0.5        -0.5        -0.5        -0.5\n",
            " -0.5        -0.5        -0.5        -0.5        -0.5        -0.5\n",
            " -0.5        -0.5        -0.5        -0.5        -0.5        -0.5\n",
            " -0.5        -0.5        -0.40980393 -0.02549019  0.3         0.49607843\n",
            "  0.5         0.18235296  0.11960787 -0.37058824 -0.5        -0.5\n",
            " -0.5        -0.5        -0.5        -0.5        -0.5        -0.5\n",
            " -0.5        -0.5        -0.5        -0.5        -0.5        -0.5\n",
            " -0.5        -0.5        -0.5        -0.5        -0.5        -0.25686276\n",
            "  0.31176472  0.3392157   0.00196081  0.00196081  0.22549021  0.4254902\n",
            "  0.46078432  0.2764706  -0.4764706  -0.5        -0.5        -0.5\n",
            " -0.5        -0.5        -0.5        -0.5        -0.5        -0.5\n",
            " -0.5        -0.5        -0.5        -0.5        -0.5        -0.5\n",
            " -0.5        -0.5        -0.5        -0.00588235  0.22941178 -0.39411765\n",
            " -0.5        -0.5        -0.5        -0.39803922  0.19803923  0.4254902\n",
            " -0.37843138 -0.5        -0.5        -0.5        -0.5        -0.5\n",
            " -0.5        -0.5        -0.5        -0.5        -0.5        -0.5\n",
            " -0.5        -0.5        -0.5        -0.5        -0.5        -0.5\n",
            " -0.5        -0.00588235  0.13529414 -0.5        -0.5        -0.5\n",
            " -0.5        -0.5         0.19803923  0.30392158 -0.5        -0.5\n",
            " -0.5        -0.5        -0.5        -0.5        -0.5        -0.5\n",
            " -0.5        -0.5        -0.5        -0.5        -0.5        -0.5\n",
            " -0.5        -0.5        -0.5        -0.5        -0.5        -0.24117646\n",
            " -0.16274509 -0.5        -0.5        -0.5        -0.5        -0.46078432\n",
            "  0.3392157  -0.01372549 -0.5        -0.5        -0.5        -0.5\n",
            " -0.5        -0.5        -0.5        -0.5        -0.5        -0.5\n",
            " -0.5        -0.5        -0.5        -0.5        -0.5        -0.5\n",
            " -0.5        -0.5        -0.5        -0.5        -0.5        -0.5\n",
            " -0.5        -0.5        -0.5        -0.29215688  0.49607843 -0.06862745\n",
            " -0.5        -0.5        -0.5        -0.5        -0.5        -0.5\n",
            " -0.5        -0.5        -0.5        -0.5        -0.5        -0.5\n",
            " -0.5        -0.5        -0.5        -0.5        -0.5        -0.5\n",
            " -0.5        -0.5        -0.5        -0.5        -0.5        -0.5\n",
            " -0.5         0.3156863   0.30784315 -0.46470588 -0.5        -0.5\n",
            " -0.5        -0.5        -0.5        -0.5        -0.5        -0.5\n",
            " -0.5        -0.5        -0.5        -0.5        -0.5        -0.5\n",
            " -0.5        -0.5        -0.5        -0.5        -0.5        -0.5\n",
            " -0.5        -0.5        -0.5        -0.5        -0.1235294   0.46470588\n",
            "  0.44117647  0.25686276 -0.04509804 -0.04509804 -0.39411765 -0.45294118\n",
            " -0.5        -0.5        -0.5        -0.5        -0.5        -0.5\n",
            " -0.5        -0.5        -0.5        -0.5        -0.5        -0.5\n",
            " -0.5        -0.5        -0.5        -0.5        -0.5        -0.5\n",
            " -0.46862745  0.09215689  0.48431373  0.34705883  0.17450982  0.17450982\n",
            "  0.17450982  0.27254903  0.49607843  0.37058824  0.08823532 -0.34705883\n",
            " -0.5        -0.5        -0.5        -0.5        -0.5        -0.5\n",
            " -0.5        -0.5        -0.5        -0.5        -0.5        -0.5\n",
            " -0.5        -0.5        -0.5        -0.5        -0.13529411  0.17843139\n",
            " -0.06862745 -0.40588236 -0.5        -0.5        -0.5        -0.48039216\n",
            " -0.38235295 -0.05294117  0.35882354  0.46470588  0.14313728 -0.42941177\n",
            " -0.5        -0.5        -0.5        -0.5        -0.5        -0.5\n",
            " -0.5        -0.5        -0.5        -0.5        -0.5        -0.5\n",
            " -0.5        -0.5        -0.5        -0.5        -0.5        -0.5\n",
            " -0.5        -0.5        -0.5        -0.5        -0.5        -0.5\n",
            " -0.44509804 -0.05686274  0.48039216  0.03333336 -0.49215686 -0.5\n",
            " -0.5        -0.5        -0.5        -0.5        -0.5        -0.5\n",
            " -0.5        -0.5        -0.5        -0.5        -0.5        -0.5\n",
            " -0.5        -0.5        -0.5        -0.5        -0.5        -0.5\n",
            " -0.5        -0.5        -0.5        -0.5        -0.5        -0.5\n",
            "  0.15882355  0.49607843 -0.27254903 -0.5        -0.5        -0.5\n",
            " -0.5        -0.5        -0.5        -0.5        -0.5        -0.5\n",
            " -0.5        -0.5        -0.5        -0.5        -0.5        -0.5\n",
            " -0.5        -0.5        -0.5        -0.5        -0.5        -0.5\n",
            " -0.5        -0.5        -0.5        -0.5        -0.45686275  0.43333334\n",
            " -0.00980392 -0.5        -0.5        -0.5        -0.5        -0.5\n",
            " -0.5        -0.5        -0.5        -0.5        -0.5        -0.5\n",
            " -0.5        -0.5        -0.5        -0.5        -0.5        -0.5\n",
            " -0.5        -0.5        -0.5        -0.5        -0.5        -0.5\n",
            " -0.5        -0.5        -0.4882353   0.2882353  -0.00980392 -0.5\n",
            " -0.5        -0.5        -0.5        -0.5        -0.5        -0.5\n",
            " -0.5        -0.5        -0.5        -0.5        -0.5        -0.5\n",
            " -0.5        -0.5        -0.5        -0.5        -0.5        -0.5\n",
            " -0.5        -0.5        -0.5        -0.5        -0.5        -0.5\n",
            " -0.1235294   0.49607843 -0.00980392 -0.5        -0.5        -0.5\n",
            " -0.5        -0.5        -0.5        -0.5        -0.5        -0.5\n",
            " -0.5        -0.5        -0.5        -0.5        -0.5        -0.5\n",
            " -0.44117647 -0.5        -0.5        -0.5        -0.5        -0.5\n",
            " -0.5        -0.5        -0.5        -0.5         0.27254903  0.49607843\n",
            " -0.20980391 -0.5        -0.5        -0.5        -0.5        -0.5\n",
            " -0.5        -0.5        -0.5        -0.5        -0.5        -0.5\n",
            " -0.5        -0.5        -0.5        -0.37058824  0.0411765  -0.49607843\n",
            " -0.5        -0.5        -0.5        -0.5        -0.5        -0.5\n",
            " -0.5        -0.28039217  0.35882354  0.28039217 -0.47254902 -0.5\n",
            " -0.5        -0.5        -0.5        -0.5        -0.5        -0.5\n",
            " -0.5        -0.5        -0.5        -0.5        -0.5        -0.5\n",
            " -0.5        -0.5         0.46078432  0.02549022 -0.41764706 -0.5\n",
            " -0.5        -0.5        -0.5        -0.3745098   0.13921571  0.46078432\n",
            "  0.13921571 -0.37058824 -0.5        -0.5        -0.5        -0.5\n",
            " -0.5        -0.5        -0.5        -0.5        -0.5        -0.5\n",
            " -0.5        -0.5        -0.5        -0.5        -0.5        -0.5\n",
            " -0.09215686  0.4137255   0.37843138  0.38627452  0.22156864  0.12352943\n",
            "  0.38627452  0.42941177  0.45686275 -0.03333333 -0.47254902 -0.5\n",
            " -0.5        -0.5        -0.5        -0.5        -0.5        -0.5\n",
            " -0.5        -0.5        -0.5        -0.5        -0.5        -0.5\n",
            " -0.5        -0.5        -0.5        -0.5        -0.5        -0.40588236\n",
            " -0.327451   -0.04117647  0.1156863   0.3745098   0.14313728 -0.0372549\n",
            " -0.32352942 -0.5        -0.5        -0.5        -0.5        -0.5\n",
            " -0.5        -0.5        -0.5        -0.5        -0.5        -0.5\n",
            " -0.5        -0.5        -0.5        -0.5        -0.5        -0.5\n",
            " -0.5        -0.5        -0.5        -0.5        -0.5        -0.5\n",
            " -0.5        -0.5        -0.5        -0.5        -0.5        -0.5\n",
            " -0.5        -0.5        -0.5        -0.5        -0.5        -0.5\n",
            " -0.5        -0.5        -0.5        -0.5        -0.5        -0.5\n",
            " -0.5        -0.5        -0.5        -0.5        -0.5        -0.5\n",
            " -0.5        -0.5        -0.5        -0.5        -0.5        -0.5\n",
            " -0.5        -0.5        -0.5        -0.5        -0.5        -0.5\n",
            " -0.5        -0.5        -0.5        -0.5        -0.5        -0.5\n",
            " -0.5        -0.5        -0.5        -0.5        -0.5        -0.5\n",
            " -0.5        -0.5        -0.5        -0.5        -0.5        -0.5\n",
            " -0.5        -0.5        -0.5        -0.5        -0.5        -0.5\n",
            " -0.5        -0.5        -0.5        -0.5        -0.5        -0.5\n",
            " -0.5        -0.5        -0.5        -0.5       ]\n",
            "Elemento 125:  [-0.5        -0.5        -0.5        -0.5        -0.5        -0.5\n",
            " -0.5        -0.5        -0.5        -0.5        -0.5        -0.5\n",
            " -0.5        -0.5        -0.5        -0.5        -0.5        -0.5\n",
            " -0.5        -0.5        -0.5        -0.5        -0.5        -0.5\n",
            " -0.5        -0.5        -0.5        -0.5        -0.5        -0.5\n",
            " -0.5        -0.5        -0.5        -0.5        -0.5        -0.5\n",
            " -0.5        -0.5        -0.5        -0.5        -0.5        -0.5\n",
            " -0.5        -0.5        -0.5        -0.5        -0.5        -0.5\n",
            " -0.5        -0.5        -0.5        -0.5        -0.5        -0.5\n",
            " -0.5        -0.5        -0.5        -0.5        -0.5        -0.5\n",
            " -0.5        -0.5        -0.5        -0.5        -0.5        -0.5\n",
            " -0.5        -0.5        -0.5        -0.5        -0.5        -0.5\n",
            " -0.5        -0.5        -0.5        -0.5        -0.5        -0.5\n",
            " -0.5        -0.5        -0.5        -0.5        -0.5        -0.5\n",
            " -0.5        -0.5        -0.5        -0.5        -0.5        -0.5\n",
            " -0.5        -0.5        -0.5        -0.5        -0.5        -0.5\n",
            " -0.5        -0.5        -0.5        -0.5        -0.5        -0.5\n",
            " -0.5        -0.5        -0.5        -0.5        -0.5        -0.5\n",
            " -0.5        -0.5        -0.5        -0.5        -0.5        -0.5\n",
            " -0.5        -0.5        -0.5        -0.5        -0.5        -0.5\n",
            " -0.5        -0.5        -0.5        -0.5        -0.5        -0.5\n",
            " -0.5        -0.5        -0.5        -0.5        -0.5        -0.5\n",
            " -0.5        -0.5        -0.5        -0.5        -0.5        -0.5\n",
            " -0.5        -0.5        -0.5        -0.5        -0.5        -0.5\n",
            " -0.5        -0.5        -0.40980393 -0.02549019  0.3         0.49607843\n",
            "  0.5         0.18235296  0.11960787 -0.37058824 -0.5        -0.5\n",
            " -0.5        -0.5        -0.5        -0.5        -0.5        -0.5\n",
            " -0.5        -0.5        -0.5        -0.5        -0.5        -0.5\n",
            " -0.5        -0.5        -0.5        -0.5        -0.5        -0.25686276\n",
            "  0.31176472  0.3392157   0.00196081  0.00196081  0.22549021  0.4254902\n",
            "  0.46078432  0.2764706  -0.4764706  -0.5        -0.5        -0.5\n",
            " -0.5        -0.5        -0.5        -0.5        -0.5        -0.5\n",
            " -0.5        -0.5        -0.5        -0.5        -0.5        -0.5\n",
            " -0.5        -0.5        -0.5        -0.00588235  0.22941178 -0.39411765\n",
            " -0.5        -0.5        -0.5        -0.39803922  0.19803923  0.4254902\n",
            " -0.37843138 -0.5        -0.5        -0.5        -0.5        -0.5\n",
            " -0.5        -0.5        -0.5        -0.5        -0.5        -0.5\n",
            " -0.5        -0.5        -0.5        -0.5        -0.5        -0.5\n",
            " -0.5        -0.00588235  0.13529414 -0.5        -0.5        -0.5\n",
            " -0.5        -0.5         0.19803923  0.30392158 -0.5        -0.5\n",
            " -0.5        -0.5        -0.5        -0.5        -0.5        -0.5\n",
            " -0.5        -0.5        -0.5        -0.5        -0.5        -0.5\n",
            " -0.5        -0.5        -0.5        -0.5        -0.5        -0.24117646\n",
            " -0.16274509 -0.5        -0.5        -0.5        -0.5        -0.46078432\n",
            "  0.3392157  -0.01372549 -0.5        -0.5        -0.5        -0.5\n",
            " -0.5        -0.5        -0.5        -0.5        -0.5        -0.5\n",
            " -0.5        -0.5        -0.5        -0.5        -0.5        -0.5\n",
            " -0.5        -0.5        -0.5        -0.5        -0.5        -0.5\n",
            " -0.5        -0.5        -0.5        -0.29215688  0.49607843 -0.06862745\n",
            " -0.5        -0.5        -0.5        -0.5        -0.5        -0.5\n",
            " -0.5        -0.5        -0.5        -0.5        -0.5        -0.5\n",
            " -0.5        -0.5        -0.5        -0.5        -0.5        -0.5\n",
            " -0.5        -0.5        -0.5        -0.5        -0.5        -0.5\n",
            " -0.5         0.3156863   0.30784315 -0.46470588 -0.5        -0.5\n",
            " -0.5        -0.5        -0.5        -0.5        -0.5        -0.5\n",
            " -0.5        -0.5        -0.5        -0.5        -0.5        -0.5\n",
            " -0.5        -0.5        -0.5        -0.5        -0.5        -0.5\n",
            " -0.5        -0.5        -0.5        -0.5        -0.1235294   0.46470588\n",
            "  0.44117647  0.25686276 -0.04509804 -0.04509804 -0.39411765 -0.45294118\n",
            " -0.5        -0.5        -0.5        -0.5        -0.5        -0.5\n",
            " -0.5        -0.5        -0.5        -0.5        -0.5        -0.5\n",
            " -0.5        -0.5        -0.5        -0.5        -0.5        -0.5\n",
            " -0.46862745  0.09215689  0.48431373  0.34705883  0.17450982  0.17450982\n",
            "  0.17450982  0.27254903  0.49607843  0.37058824  0.08823532 -0.34705883\n",
            " -0.5        -0.5        -0.5        -0.5        -0.5        -0.5\n",
            " -0.5        -0.5        -0.5        -0.5        -0.5        -0.5\n",
            " -0.5        -0.5        -0.5        -0.5        -0.13529411  0.17843139\n",
            " -0.06862745 -0.40588236 -0.5        -0.5        -0.5        -0.48039216\n",
            " -0.38235295 -0.05294117  0.35882354  0.46470588  0.14313728 -0.42941177\n",
            " -0.5        -0.5        -0.5        -0.5        -0.5        -0.5\n",
            " -0.5        -0.5        -0.5        -0.5        -0.5        -0.5\n",
            " -0.5        -0.5        -0.5        -0.5        -0.5        -0.5\n",
            " -0.5        -0.5        -0.5        -0.5        -0.5        -0.5\n",
            " -0.44509804 -0.05686274  0.48039216  0.03333336 -0.49215686 -0.5\n",
            " -0.5        -0.5        -0.5        -0.5        -0.5        -0.5\n",
            " -0.5        -0.5        -0.5        -0.5        -0.5        -0.5\n",
            " -0.5        -0.5        -0.5        -0.5        -0.5        -0.5\n",
            " -0.5        -0.5        -0.5        -0.5        -0.5        -0.5\n",
            "  0.15882355  0.49607843 -0.27254903 -0.5        -0.5        -0.5\n",
            " -0.5        -0.5        -0.5        -0.5        -0.5        -0.5\n",
            " -0.5        -0.5        -0.5        -0.5        -0.5        -0.5\n",
            " -0.5        -0.5        -0.5        -0.5        -0.5        -0.5\n",
            " -0.5        -0.5        -0.5        -0.5        -0.45686275  0.43333334\n",
            " -0.00980392 -0.5        -0.5        -0.5        -0.5        -0.5\n",
            " -0.5        -0.5        -0.5        -0.5        -0.5        -0.5\n",
            " -0.5        -0.5        -0.5        -0.5        -0.5        -0.5\n",
            " -0.5        -0.5        -0.5        -0.5        -0.5        -0.5\n",
            " -0.5        -0.5        -0.4882353   0.2882353  -0.00980392 -0.5\n",
            " -0.5        -0.5        -0.5        -0.5        -0.5        -0.5\n",
            " -0.5        -0.5        -0.5        -0.5        -0.5        -0.5\n",
            " -0.5        -0.5        -0.5        -0.5        -0.5        -0.5\n",
            " -0.5        -0.5        -0.5        -0.5        -0.5        -0.5\n",
            " -0.1235294   0.49607843 -0.00980392 -0.5        -0.5        -0.5\n",
            " -0.5        -0.5        -0.5        -0.5        -0.5        -0.5\n",
            " -0.5        -0.5        -0.5        -0.5        -0.5        -0.5\n",
            " -0.44117647 -0.5        -0.5        -0.5        -0.5        -0.5\n",
            " -0.5        -0.5        -0.5        -0.5         0.27254903  0.49607843\n",
            " -0.20980391 -0.5        -0.5        -0.5        -0.5        -0.5\n",
            " -0.5        -0.5        -0.5        -0.5        -0.5        -0.5\n",
            " -0.5        -0.5        -0.5        -0.37058824  0.0411765  -0.49607843\n",
            " -0.5        -0.5        -0.5        -0.5        -0.5        -0.5\n",
            " -0.5        -0.28039217  0.35882354  0.28039217 -0.47254902 -0.5\n",
            " -0.5        -0.5        -0.5        -0.5        -0.5        -0.5\n",
            " -0.5        -0.5        -0.5        -0.5        -0.5        -0.5\n",
            " -0.5        -0.5         0.46078432  0.02549022 -0.41764706 -0.5\n",
            " -0.5        -0.5        -0.5        -0.3745098   0.13921571  0.46078432\n",
            "  0.13921571 -0.37058824 -0.5        -0.5        -0.5        -0.5\n",
            " -0.5        -0.5        -0.5        -0.5        -0.5        -0.5\n",
            " -0.5        -0.5        -0.5        -0.5        -0.5        -0.5\n",
            " -0.09215686  0.4137255   0.37843138  0.38627452  0.22156864  0.12352943\n",
            "  0.38627452  0.42941177  0.45686275 -0.03333333 -0.47254902 -0.5\n",
            " -0.5        -0.5        -0.5        -0.5        -0.5        -0.5\n",
            " -0.5        -0.5        -0.5        -0.5        -0.5        -0.5\n",
            " -0.5        -0.5        -0.5        -0.5        -0.5        -0.40588236\n",
            " -0.327451   -0.04117647  0.1156863   0.3745098   0.14313728 -0.0372549\n",
            " -0.32352942 -0.5        -0.5        -0.5        -0.5        -0.5\n",
            " -0.5        -0.5        -0.5        -0.5        -0.5        -0.5\n",
            " -0.5        -0.5        -0.5        -0.5        -0.5        -0.5\n",
            " -0.5        -0.5        -0.5        -0.5        -0.5        -0.5\n",
            " -0.5        -0.5        -0.5        -0.5        -0.5        -0.5\n",
            " -0.5        -0.5        -0.5        -0.5        -0.5        -0.5\n",
            " -0.5        -0.5        -0.5        -0.5        -0.5        -0.5\n",
            " -0.5        -0.5        -0.5        -0.5        -0.5        -0.5\n",
            " -0.5        -0.5        -0.5        -0.5        -0.5        -0.5\n",
            " -0.5        -0.5        -0.5        -0.5        -0.5        -0.5\n",
            " -0.5        -0.5        -0.5        -0.5        -0.5        -0.5\n",
            " -0.5        -0.5        -0.5        -0.5        -0.5        -0.5\n",
            " -0.5        -0.5        -0.5        -0.5        -0.5        -0.5\n",
            " -0.5        -0.5        -0.5        -0.5        -0.5        -0.5\n",
            " -0.5        -0.5        -0.5        -0.5        -0.5        -0.5\n",
            " -0.5        -0.5        -0.5        -0.5       ]\n"
          ]
        }
      ]
    },
    {
      "cell_type": "markdown",
      "source": [
        "# Preparación del modelo\n",
        "\n",
        "Problema de clasificación con 10 clases posibles. La capa de salida debe tener 10 neronas. La capa de entrada, como son imágenes de 28x28, tenfrá 784 neuronas.\n",
        "En la capa oculta no hay fomra de saber a priori el número óptimo ni de capas ni de neuronas. Vamos a probar con una sola capa oculta de 20 neuronas. Como funciones d eactivación vamos a usar sigmoides en la capa intermedia. En la capa de salida vamos a usar softmax (problema de clasificación).\n",
        "\n",
        "Se podría crear la red con el modelo Sequential, pero vamos a haerlo con el modelo no secuencial, que es uuna API funcional de Keras."
      ],
      "metadata": {
        "id": "WRMoO8d17PTz"
      }
    },
    {
      "cell_type": "code",
      "source": [
        "# Estes es el por defecto de clase\n",
        "# from keras.layers import Input, Dense\n",
        "# from keras.models import Model\n",
        "\n",
        "# inputs= Input(shape=(784,)) # Capa de entrda\n",
        "# output_h= Dense(units=20, activation='sigmoid')(inputs) # Capa oculta conectada con la de entrada\n",
        "# predictions= Dense(10, activation=\"softmax\")(output_h) # Capa de salida\n",
        "\n",
        "# model= Model(inputs=inputs, outputs=predictions)\n",
        "# model.summary()"
      ],
      "metadata": {
        "id": "xzCcpLbr8IT1"
      },
      "execution_count": 14,
      "outputs": []
    },
    {
      "cell_type": "markdown",
      "source": [
        "# Preparamos los hiperparámetros del ejercicio"
      ],
      "metadata": {
        "id": "SZQIcp0kKn3T"
      }
    },
    {
      "cell_type": "code",
      "source": [
        "# 4️⃣ Definición de función para crear y entrenar modelos con distintos hiperparámetros\n",
        "def entrenar_modelo(num_neuronas=20, epochs=10, learning_rate=0.01, batch_size=32):\n",
        "    \"\"\"\n",
        "    Crea y entrena un modelo con los hiperparámetros dados.\n",
        "    \"\"\"\n",
        "    inputs = Input(shape=(784,))\n",
        "    flatten = Flatten()(inputs)\n",
        "    hidden = Dense(num_neuronas, activation='sigmoid')(flatten)\n",
        "    output = Dense(10, activation=\"softmax\")(hidden)\n",
        "\n",
        "    model = Model(inputs=inputs, outputs=output)\n",
        "\n",
        "    optimizer = SGD(learning_rate=learning_rate)\n",
        "    model.compile(loss='categorical_crossentropy', optimizer=optimizer, metrics=['accuracy'])\n",
        "\n",
        "    history = model.fit(X_train, y_train,\n",
        "                        validation_data=(X_val, y_val),\n",
        "                        epochs=epochs,\n",
        "                        batch_size=batch_size,\n",
        "                        verbose=1)\n",
        "\n",
        "    test_loss, test_acc = model.evaluate(X_test, y_test, verbose=0)\n",
        "\n",
        "    return model, history, test_acc"
      ],
      "metadata": {
        "id": "MdW_I1NtK2Sf"
      },
      "execution_count": 44,
      "outputs": []
    },
    {
      "cell_type": "code",
      "source": [
        "# 5️⃣ Configuraciones a probar\n",
        "experimentos = [\n",
        "    {\"num_neuronas\": 5, \"epochs\": 3, \"learning_rate\": 0.001, \"batch_size\": 5},    # Peor caso: Pocas neuronas, pocas épocas, lr bajo, batch pequeño\n",
        "    {\"num_neuronas\": 20, \"epochs\": 5, \"learning_rate\": 0.01, \"batch_size\": 20},   # Término medio\n",
        "    {\"num_neuronas\": 50, \"epochs\": 20, \"learning_rate\": 1.5, \"batch_size\": 50},   # Mejor caso: Más neuronas, más épocas, lr alto, batch grande\n",
        "]"
      ],
      "metadata": {
        "id": "RhYFo-fqNTLm"
      },
      "execution_count": 45,
      "outputs": []
    },
    {
      "cell_type": "markdown",
      "source": [
        "# Entrenamiento"
      ],
      "metadata": {
        "id": "XZG8stcQDKCe"
      }
    },
    {
      "cell_type": "code",
      "source": [
        "# model.compile(loss='mse',\n",
        "#             optimizer=keras.optimizers.SGD(learning_rate=1.0), # La velocidad de aprendizaje\n",
        "#             metrics=['accuracy'])"
      ],
      "metadata": {
        "id": "T2TejP_7DPsn"
      },
      "execution_count": 17,
      "outputs": []
    },
    {
      "cell_type": "code",
      "source": [
        "# Estes es el por defecto de clase\n",
        "# history =model.fit(X_train, y_train, epochs=5, batch_size=20, validation_data=(X_test, y_test))"
      ],
      "metadata": {
        "id": "LvmGc36BEHi5"
      },
      "execution_count": 18,
      "outputs": []
    },
    {
      "cell_type": "code",
      "source": [
        "# 6️⃣ Entrenar los modelos y guardar resultados\n",
        "resultados = []\n",
        "for i, exp in enumerate(experimentos):\n",
        "    print(f\"\\n🔹 Ejecutando experimento {i+1}: {exp}\")\n",
        "    model, history, test_acc = entrenar_modelo(**exp)\n",
        "\n",
        "    # Guardar resultados\n",
        "    resultados.append({\n",
        "        \"config\": exp,\n",
        "        \"accuracy_test\": test_acc,\n",
        "        \"history\": history\n",
        "    })\n",
        "\n",
        "    # Graficar la precisión en entrenamiento y validación\n",
        "    plt.plot(history.history['accuracy'], label='Entrenamiento')\n",
        "    plt.plot(history.history['val_accuracy'], label='Validación')\n",
        "    plt.legend()\n",
        "    plt.title(f\"Exp {i+1}: Precisión (Train vs Validación)\")\n",
        "    plt.show()"
      ],
      "metadata": {
        "colab": {
          "base_uri": "https://localhost:8080/",
          "height": 1000
        },
        "id": "AxyFlqF5Ldvg",
        "outputId": "9785f893-9d8e-408e-ee91-bf77852192d6"
      },
      "execution_count": 46,
      "outputs": [
        {
          "output_type": "stream",
          "name": "stdout",
          "text": [
            "\n",
            "🔹 Ejecutando experimento 1: {'num_neuronas': 5, 'epochs': 3, 'learning_rate': 0.001, 'batch_size': 5}\n",
            "Epoch 1/3\n",
            "\u001b[1m9600/9600\u001b[0m \u001b[32m━━━━━━━━━━━━━━━━━━━━\u001b[0m\u001b[37m\u001b[0m \u001b[1m27s\u001b[0m 3ms/step - accuracy: 0.1648 - loss: 2.2451 - val_accuracy: 0.4137 - val_loss: 2.0248\n",
            "Epoch 2/3\n",
            "\u001b[1m9600/9600\u001b[0m \u001b[32m━━━━━━━━━━━━━━━━━━━━\u001b[0m\u001b[37m\u001b[0m \u001b[1m40s\u001b[0m 3ms/step - accuracy: 0.4536 - loss: 1.9573 - val_accuracy: 0.5267 - val_loss: 1.7860\n",
            "Epoch 3/3\n",
            "\u001b[1m9600/9600\u001b[0m \u001b[32m━━━━━━━━━━━━━━━━━━━━\u001b[0m\u001b[37m\u001b[0m \u001b[1m28s\u001b[0m 3ms/step - accuracy: 0.5436 - loss: 1.7318 - val_accuracy: 0.5811 - val_loss: 1.5872\n"
          ]
        },
        {
          "output_type": "display_data",
          "data": {
            "text/plain": [
              "<Figure size 640x480 with 1 Axes>"
            ],
            "image/png": "[encoded data removed]"
          },
          "metadata": {}
        },
        {
          "output_type": "stream",
          "name": "stdout",
          "text": [
            "\n",
            "🔹 Ejecutando experimento 2: {'num_neuronas': 20, 'epochs': 5, 'learning_rate': 0.01, 'batch_size': 20}\n",
            "Epoch 1/5\n",
            "\u001b[1m2400/2400\u001b[0m \u001b[32m━━━━━━━━━━━━━━━━━━━━\u001b[0m\u001b[37m\u001b[0m \u001b[1m7s\u001b[0m 3ms/step - accuracy: 0.4966 - loss: 1.9360 - val_accuracy: 0.7872 - val_loss: 1.0877\n",
            "Epoch 2/5\n",
            "\u001b[1m2400/2400\u001b[0m \u001b[32m━━━━━━━━━━━━━━━━━━━━\u001b[0m\u001b[37m\u001b[0m \u001b[1m7s\u001b[0m 3ms/step - accuracy: 0.8142 - loss: 0.9555 - val_accuracy: 0.8535 - val_loss: 0.6949\n",
            "Epoch 3/5\n",
            "\u001b[1m2400/2400\u001b[0m \u001b[32m━━━━━━━━━━━━━━━━━━━━\u001b[0m\u001b[37m\u001b[0m \u001b[1m6s\u001b[0m 3ms/step - accuracy: 0.8615 - loss: 0.6448 - val_accuracy: 0.8776 - val_loss: 0.5400\n",
            "Epoch 4/5\n",
            "\u001b[1m2400/2400\u001b[0m \u001b[32m━━━━━━━━━━━━━━━━━━━━\u001b[0m\u001b[37m\u001b[0m \u001b[1m10s\u001b[0m 3ms/step - accuracy: 0.8791 - loss: 0.5215 - val_accuracy: 0.8883 - val_loss: 0.4606\n",
            "Epoch 5/5\n",
            "\u001b[1m2400/2400\u001b[0m \u001b[32m━━━━━━━━━━━━━━━━━━━━\u001b[0m\u001b[37m\u001b[0m \u001b[1m7s\u001b[0m 3ms/step - accuracy: 0.8907 - loss: 0.4474 - val_accuracy: 0.8977 - val_loss: 0.4118\n"
          ]
        },
        {
          "output_type": "display_data",
          "data": {
            "text/plain": [
              "<Figure size 640x480 with 1 Axes>"
            ],
            "image/png": "[encoded data removed]"
          },
          "metadata": {}
        },
        {
          "output_type": "stream",
          "name": "stdout",
          "text": [
            "\n",
            "🔹 Ejecutando experimento 3: {'num_neuronas': 50, 'epochs': 20, 'learning_rate': 1.5, 'batch_size': 50}\n",
            "Epoch 1/20\n",
            "\u001b[1m960/960\u001b[0m \u001b[32m━━━━━━━━━━━━━━━━━━━━\u001b[0m\u001b[37m\u001b[0m \u001b[1m5s\u001b[0m 4ms/step - accuracy: 0.7198 - loss: 0.8368 - val_accuracy: 0.9180 - val_loss: 0.2697\n",
            "Epoch 2/20\n",
            "\u001b[1m960/960\u001b[0m \u001b[32m━━━━━━━━━━━━━━━━━━━━\u001b[0m\u001b[37m\u001b[0m \u001b[1m3s\u001b[0m 3ms/step - accuracy: 0.9279 - loss: 0.2391 - val_accuracy: 0.9463 - val_loss: 0.1825\n",
            "Epoch 3/20\n",
            "\u001b[1m960/960\u001b[0m \u001b[32m━━━━━━━━━━━━━━━━━━━━\u001b[0m\u001b[37m\u001b[0m \u001b[1m3s\u001b[0m 3ms/step - accuracy: 0.9446 - loss: 0.1808 - val_accuracy: 0.9532 - val_loss: 0.1656\n",
            "Epoch 4/20\n",
            "\u001b[1m960/960\u001b[0m \u001b[32m━━━━━━━━━━━━━━━━━━━━\u001b[0m\u001b[37m\u001b[0m \u001b[1m3s\u001b[0m 3ms/step - accuracy: 0.9532 - loss: 0.1575 - val_accuracy: 0.9484 - val_loss: 0.1775\n",
            "Epoch 5/20\n",
            "\u001b[1m960/960\u001b[0m \u001b[32m━━━━━━━━━━━━━━━━━━━━\u001b[0m\u001b[37m\u001b[0m \u001b[1m5s\u001b[0m 3ms/step - accuracy: 0.9593 - loss: 0.1346 - val_accuracy: 0.9575 - val_loss: 0.1487\n",
            "Epoch 6/20\n",
            "\u001b[1m960/960\u001b[0m \u001b[32m━━━━━━━━━━━━━━━━━━━━\u001b[0m\u001b[37m\u001b[0m \u001b[1m3s\u001b[0m 3ms/step - accuracy: 0.9631 - loss: 0.1230 - val_accuracy: 0.9557 - val_loss: 0.1508\n",
            "Epoch 7/20\n",
            "\u001b[1m960/960\u001b[0m \u001b[32m━━━━━━━━━━━━━━━━━━━━\u001b[0m\u001b[37m\u001b[0m \u001b[1m3s\u001b[0m 3ms/step - accuracy: 0.9665 - loss: 0.1115 - val_accuracy: 0.9611 - val_loss: 0.1376\n",
            "Epoch 8/20\n",
            "\u001b[1m960/960\u001b[0m \u001b[32m━━━━━━━━━━━━━━━━━━━━\u001b[0m\u001b[37m\u001b[0m \u001b[1m4s\u001b[0m 4ms/step - accuracy: 0.9663 - loss: 0.1090 - val_accuracy: 0.9548 - val_loss: 0.1540\n",
            "Epoch 9/20\n",
            "\u001b[1m960/960\u001b[0m \u001b[32m━━━━━━━━━━━━━━━━━━━━\u001b[0m\u001b[37m\u001b[0m \u001b[1m4s\u001b[0m 3ms/step - accuracy: 0.9682 - loss: 0.1016 - val_accuracy: 0.9541 - val_loss: 0.1494\n",
            "Epoch 10/20\n",
            "\u001b[1m960/960\u001b[0m \u001b[32m━━━━━━━━━━━━━━━━━━━━\u001b[0m\u001b[37m\u001b[0m \u001b[1m5s\u001b[0m 3ms/step - accuracy: 0.9708 - loss: 0.0960 - val_accuracy: 0.9598 - val_loss: 0.1394\n",
            "Epoch 11/20\n",
            "\u001b[1m960/960\u001b[0m \u001b[32m━━━━━━━━━━━━━━━━━━━━\u001b[0m\u001b[37m\u001b[0m \u001b[1m3s\u001b[0m 3ms/step - accuracy: 0.9761 - loss: 0.0808 - val_accuracy: 0.9614 - val_loss: 0.1359\n",
            "Epoch 12/20\n",
            "\u001b[1m960/960\u001b[0m \u001b[32m━━━━━━━━━━━━━━━━━━━━\u001b[0m\u001b[37m\u001b[0m \u001b[1m5s\u001b[0m 3ms/step - accuracy: 0.9767 - loss: 0.0791 - val_accuracy: 0.9559 - val_loss: 0.1457\n",
            "Epoch 13/20\n",
            "\u001b[1m960/960\u001b[0m \u001b[32m━━━━━━━━━━━━━━━━━━━━\u001b[0m\u001b[37m\u001b[0m \u001b[1m5s\u001b[0m 3ms/step - accuracy: 0.9754 - loss: 0.0751 - val_accuracy: 0.9614 - val_loss: 0.1314\n",
            "Epoch 14/20\n",
            "\u001b[1m960/960\u001b[0m \u001b[32m━━━━━━━━━━━━━━━━━━━━\u001b[0m\u001b[37m\u001b[0m \u001b[1m5s\u001b[0m 3ms/step - accuracy: 0.9790 - loss: 0.0661 - val_accuracy: 0.9561 - val_loss: 0.1456\n",
            "Epoch 15/20\n",
            "\u001b[1m960/960\u001b[0m \u001b[32m━━━━━━━━━━━━━━━━━━━━\u001b[0m\u001b[37m\u001b[0m \u001b[1m3s\u001b[0m 3ms/step - accuracy: 0.9784 - loss: 0.0678 - val_accuracy: 0.9615 - val_loss: 0.1324\n",
            "Epoch 16/20\n",
            "\u001b[1m960/960\u001b[0m \u001b[32m━━━━━━━━━━━━━━━━━━━━\u001b[0m\u001b[37m\u001b[0m \u001b[1m3s\u001b[0m 3ms/step - accuracy: 0.9803 - loss: 0.0636 - val_accuracy: 0.9623 - val_loss: 0.1331\n",
            "Epoch 17/20\n",
            "\u001b[1m960/960\u001b[0m \u001b[32m━━━━━━━━━━━━━━━━━━━━\u001b[0m\u001b[37m\u001b[0m \u001b[1m5s\u001b[0m 3ms/step - accuracy: 0.9814 - loss: 0.0608 - val_accuracy: 0.9613 - val_loss: 0.1386\n",
            "Epoch 18/20\n",
            "\u001b[1m960/960\u001b[0m \u001b[32m━━━━━━━━━━━━━━━━━━━━\u001b[0m\u001b[37m\u001b[0m \u001b[1m3s\u001b[0m 3ms/step - accuracy: 0.9808 - loss: 0.0591 - val_accuracy: 0.9630 - val_loss: 0.1348\n",
            "Epoch 19/20\n",
            "\u001b[1m960/960\u001b[0m \u001b[32m━━━━━━━━━━━━━━━━━━━━\u001b[0m\u001b[37m\u001b[0m \u001b[1m5s\u001b[0m 3ms/step - accuracy: 0.9832 - loss: 0.0554 - val_accuracy: 0.9616 - val_loss: 0.1321\n",
            "Epoch 20/20\n",
            "\u001b[1m960/960\u001b[0m \u001b[32m━━━━━━━━━━━━━━━━━━━━\u001b[0m\u001b[37m\u001b[0m \u001b[1m3s\u001b[0m 3ms/step - accuracy: 0.9832 - loss: 0.0536 - val_accuracy: 0.9592 - val_loss: 0.1525\n"
          ]
        },
        {
          "output_type": "display_data",
          "data": {
            "text/plain": [
              "<Figure size 640x480 with 1 Axes>"
            ],
            "image/png": "[encoded data removed]"
          },
          "metadata": {}
        }
      ]
    },
    {
      "cell_type": "markdown",
      "source": [
        "# Visualización"
      ],
      "metadata": {
        "id": "lpzlY4SHG26j"
      }
    },
    {
      "cell_type": "code",
      "source": [
        "# from matplotlib import pyplot as plt\n",
        "# plt.plot(history.history['accuracy'], label=\"accuracy\")\n",
        "# plt.plot(history.history['val_accuracy'], label=\"validation accuracy\")\n",
        "\n",
        "# plt.title(\"Entrenamiento MNIST\")\n",
        "# plt.xlabel(\"Epochs\")\n",
        "# plt.ylabel(\"Accuracy\")\n",
        "# plt.legend(loc=\"lower right\")"
      ],
      "metadata": {
        "id": "MUSpo__aG7d4"
      },
      "execution_count": 47,
      "outputs": []
    },
    {
      "cell_type": "code",
      "source": [
        "# Encontrar mejor, peor y término medio configuración\n",
        "mejor = max(resultados, key=lambda x: x[\"accuracy_test\"])\n",
        "peor = min(resultados, key=lambda x: x[\"accuracy_test\"])\n",
        "medio = sorted(resultados, key=lambda x: x[\"accuracy_test\"])[1]  # El del medio\n",
        "\n",
        "# Graficar comparación de resultados\n",
        "plt.figure(figsize=(15, 5))\n",
        "\n",
        "for i, exp in enumerate([mejor, peor, medio]):\n",
        "    plt.subplot(1, 3, i+1)\n",
        "    plt.plot(exp[\"history\"].history['accuracy'], label='Train')\n",
        "    plt.plot(exp[\"history\"].history['val_accuracy'], label='Valid')\n",
        "    plt.title(f\"Resultado: \\nTest Acc: {exp['accuracy_test']:.4f}\")\n",
        "    plt.xlabel(\"Epochs\")\n",
        "    plt.ylabel(\"Accuracy\")\n",
        "    plt.legend()\n",
        "\n",
        "plt.show()"
      ],
      "metadata": {
        "colab": {
          "base_uri": "https://localhost:8080/",
          "height": 508
        },
        "id": "6Du2yn-xLnwZ",
        "outputId": "cacdaf36-b5b3-4d0d-9afe-20815d82c224"
      },
      "execution_count": 48,
      "outputs": [
        {
          "output_type": "display_data",
          "data": {
            "text/plain": [
              "<Figure size 1500x500 with 3 Axes>"
            ],
            "image/png": "[encoded data removed]"
          },
          "metadata": {}
        }
      ]
    },
    {
      "cell_type": "code",
      "source": [
        "# Mostrar los valores en pantalla\n",
        "print(\"\\nResultados Finales\")\n",
        "print(f\"Mejor configuración: {mejor['config']} → Precisión en test: {mejor['accuracy_test']:.4f}\")\n",
        "print(f\"Peor configuración: {peor['config']} → Precisión en test: {peor['accuracy_test']:.4f}\")\n",
        "print(f\"Término medio configuración: {medio['config']} → Precisión en test: {medio['accuracy_test']:.4f}\")"
      ],
      "metadata": {
        "colab": {
          "base_uri": "https://localhost:8080/"
        },
        "id": "1Et8uC2FY0Bh",
        "outputId": "4bc03895-f608-46d2-d265-326d23fb2a2d"
      },
      "execution_count": 49,
      "outputs": [
        {
          "output_type": "stream",
          "name": "stdout",
          "text": [
            "\n",
            "Resultados Finales\n",
            "Mejor configuración: {'num_neuronas': 50, 'epochs': 20, 'learning_rate': 1.5, 'batch_size': 50} → Precisión en test: 0.9595\n",
            "Peor configuración: {'num_neuronas': 5, 'epochs': 3, 'learning_rate': 0.001, 'batch_size': 5} → Precisión en test: 0.5888\n",
            "Término medio configuración: {'num_neuronas': 20, 'epochs': 5, 'learning_rate': 0.01, 'batch_size': 20} → Precisión en test: 0.9012\n"
          ]
        }
      ]
    },
    {
      "cell_type": "markdown",
      "source": [
        "# Producción"
      ],
      "metadata": {
        "id": "SiBtU6ZdILfo"
      }
    },
    {
      "cell_type": "code",
      "source": [
        "# Entrenar un modelo y guardarlo en la variable model\n",
        "model, history, test_acc = entrenar_modelo(num_neuronas=50, epochs=20, learning_rate=1.5, batch_size=50)\n",
        "\n",
        "# Ahora `model` está definido y puedes hacer predicciones\n",
        "predictions = np.round(model.predict(X_test),2)\n",
        "\n",
        "# Mostrar la predicción de la primera imagen\n",
        "print(f\"Desired output: {y_test[0]}\")\n",
        "print(f\"Predicted output: {predictions[0]}\")\n"
      ],
      "metadata": {
        "colab": {
          "base_uri": "https://localhost:8080/"
        },
        "id": "-RnpQTHGIOJr",
        "outputId": "0d4242d7-4fba-44d3-c442-ffa45dab4cd9"
      },
      "execution_count": 50,
      "outputs": [
        {
          "output_type": "stream",
          "name": "stdout",
          "text": [
            "Epoch 1/20\n",
            "\u001b[1m960/960\u001b[0m \u001b[32m━━━━━━━━━━━━━━━━━━━━\u001b[0m\u001b[37m\u001b[0m \u001b[1m3s\u001b[0m 3ms/step - accuracy: 0.7222 - loss: 0.8330 - val_accuracy: 0.9168 - val_loss: 0.2742\n",
            "Epoch 2/20\n",
            "\u001b[1m960/960\u001b[0m \u001b[32m━━━━━━━━━━━━━━━━━━━━\u001b[0m\u001b[37m\u001b[0m \u001b[1m5s\u001b[0m 3ms/step - accuracy: 0.9279 - loss: 0.2360 - val_accuracy: 0.9325 - val_loss: 0.2199\n",
            "Epoch 3/20\n",
            "\u001b[1m960/960\u001b[0m \u001b[32m━━━━━━━━━━━━━━━━━━━━\u001b[0m\u001b[37m\u001b[0m \u001b[1m5s\u001b[0m 3ms/step - accuracy: 0.9420 - loss: 0.1905 - val_accuracy: 0.9498 - val_loss: 0.1702\n",
            "Epoch 4/20\n",
            "\u001b[1m960/960\u001b[0m \u001b[32m━━━━━━━━━━━━━━━━━━━━\u001b[0m\u001b[37m\u001b[0m \u001b[1m5s\u001b[0m 3ms/step - accuracy: 0.9550 - loss: 0.1497 - val_accuracy: 0.9518 - val_loss: 0.1750\n",
            "Epoch 5/20\n",
            "\u001b[1m960/960\u001b[0m \u001b[32m━━━━━━━━━━━━━━━━━━━━\u001b[0m\u001b[37m\u001b[0m \u001b[1m5s\u001b[0m 3ms/step - accuracy: 0.9572 - loss: 0.1374 - val_accuracy: 0.9595 - val_loss: 0.1394\n",
            "Epoch 6/20\n",
            "\u001b[1m960/960\u001b[0m \u001b[32m━━━━━━━━━━━━━━━━━━━━\u001b[0m\u001b[37m\u001b[0m \u001b[1m6s\u001b[0m 3ms/step - accuracy: 0.9651 - loss: 0.1143 - val_accuracy: 0.9568 - val_loss: 0.1466\n",
            "Epoch 7/20\n",
            "\u001b[1m960/960\u001b[0m \u001b[32m━━━━━━━━━━━━━━━━━━━━\u001b[0m\u001b[37m\u001b[0m \u001b[1m4s\u001b[0m 3ms/step - accuracy: 0.9686 - loss: 0.1041 - val_accuracy: 0.9583 - val_loss: 0.1427\n",
            "Epoch 8/20\n",
            "\u001b[1m960/960\u001b[0m \u001b[32m━━━━━━━━━━━━━━━━━━━━\u001b[0m\u001b[37m\u001b[0m \u001b[1m2s\u001b[0m 3ms/step - accuracy: 0.9669 - loss: 0.1075 - val_accuracy: 0.9636 - val_loss: 0.1263\n",
            "Epoch 9/20\n",
            "\u001b[1m960/960\u001b[0m \u001b[32m━━━━━━━━━━━━━━━━━━━━\u001b[0m\u001b[37m\u001b[0m \u001b[1m3s\u001b[0m 3ms/step - accuracy: 0.9717 - loss: 0.0946 - val_accuracy: 0.9656 - val_loss: 0.1194\n",
            "Epoch 10/20\n",
            "\u001b[1m960/960\u001b[0m \u001b[32m━━━━━━━━━━━━━━━━━━━━\u001b[0m\u001b[37m\u001b[0m \u001b[1m5s\u001b[0m 3ms/step - accuracy: 0.9742 - loss: 0.0832 - val_accuracy: 0.9635 - val_loss: 0.1200\n",
            "Epoch 11/20\n",
            "\u001b[1m960/960\u001b[0m \u001b[32m━━━━━━━━━━━━━━━━━━━━\u001b[0m\u001b[37m\u001b[0m \u001b[1m3s\u001b[0m 3ms/step - accuracy: 0.9745 - loss: 0.0783 - val_accuracy: 0.9612 - val_loss: 0.1351\n",
            "Epoch 12/20\n",
            "\u001b[1m960/960\u001b[0m \u001b[32m━━━━━━━━━━━━━━━━━━━━\u001b[0m\u001b[37m\u001b[0m \u001b[1m3s\u001b[0m 3ms/step - accuracy: 0.9774 - loss: 0.0716 - val_accuracy: 0.9647 - val_loss: 0.1247\n",
            "Epoch 13/20\n",
            "\u001b[1m960/960\u001b[0m \u001b[32m━━━━━━━━━━━━━━━━━━━━\u001b[0m\u001b[37m\u001b[0m \u001b[1m3s\u001b[0m 3ms/step - accuracy: 0.9758 - loss: 0.0760 - val_accuracy: 0.9625 - val_loss: 0.1310\n",
            "Epoch 14/20\n",
            "\u001b[1m960/960\u001b[0m \u001b[32m━━━━━━━━━━━━━━━━━━━━\u001b[0m\u001b[37m\u001b[0m \u001b[1m4s\u001b[0m 3ms/step - accuracy: 0.9783 - loss: 0.0692 - val_accuracy: 0.9643 - val_loss: 0.1236\n",
            "Epoch 15/20\n",
            "\u001b[1m960/960\u001b[0m \u001b[32m━━━━━━━━━━━━━━━━━━━━\u001b[0m\u001b[37m\u001b[0m \u001b[1m3s\u001b[0m 3ms/step - accuracy: 0.9795 - loss: 0.0642 - val_accuracy: 0.9638 - val_loss: 0.1229\n",
            "Epoch 16/20\n",
            "\u001b[1m960/960\u001b[0m \u001b[32m━━━━━━━━━━━━━━━━━━━━\u001b[0m\u001b[37m\u001b[0m \u001b[1m6s\u001b[0m 3ms/step - accuracy: 0.9803 - loss: 0.0628 - val_accuracy: 0.9666 - val_loss: 0.1185\n",
            "Epoch 17/20\n",
            "\u001b[1m960/960\u001b[0m \u001b[32m━━━━━━━━━━━━━━━━━━━━\u001b[0m\u001b[37m\u001b[0m \u001b[1m3s\u001b[0m 3ms/step - accuracy: 0.9801 - loss: 0.0619 - val_accuracy: 0.9650 - val_loss: 0.1221\n",
            "Epoch 18/20\n",
            "\u001b[1m960/960\u001b[0m \u001b[32m━━━━━━━━━━━━━━━━━━━━\u001b[0m\u001b[37m\u001b[0m \u001b[1m3s\u001b[0m 3ms/step - accuracy: 0.9806 - loss: 0.0590 - val_accuracy: 0.9619 - val_loss: 0.1382\n",
            "Epoch 19/20\n",
            "\u001b[1m960/960\u001b[0m \u001b[32m━━━━━━━━━━━━━━━━━━━━\u001b[0m\u001b[37m\u001b[0m \u001b[1m3s\u001b[0m 3ms/step - accuracy: 0.9837 - loss: 0.0500 - val_accuracy: 0.9683 - val_loss: 0.1153\n",
            "Epoch 20/20\n",
            "\u001b[1m960/960\u001b[0m \u001b[32m━━━━━━━━━━━━━━━━━━━━\u001b[0m\u001b[37m\u001b[0m \u001b[1m3s\u001b[0m 3ms/step - accuracy: 0.9854 - loss: 0.0468 - val_accuracy: 0.9670 - val_loss: 0.1147\n",
            "\u001b[1m313/313\u001b[0m \u001b[32m━━━━━━━━━━━━━━━━━━━━\u001b[0m\u001b[37m\u001b[0m \u001b[1m1s\u001b[0m 2ms/step\n",
            "Desired output: [0. 0. 0. 0. 0. 0. 0. 1. 0. 0.]\n",
            "Predicted output: [0. 0. 0. 0. 0. 0. 0. 1. 0. 0.]\n"
          ]
        }
      ]
    },
    {
      "cell_type": "code",
      "source": [
        "for i in range(100):\n",
        "  if np.argmax(predictions[i]) == np.argmax(y_test[i]):\n",
        "    print(predictions[i], \"->\", y_test[i])\n",
        "  else:\n",
        "    print(predictions[i], \"->\", y_test[i], \"X\")"
      ],
      "metadata": {
        "colab": {
          "base_uri": "https://localhost:8080/"
        },
        "id": "Wwl4tYuYJFI0",
        "outputId": "158c1f70-b628-40e4-ae67-67781b533361"
      },
      "execution_count": 51,
      "outputs": [
        {
          "output_type": "stream",
          "name": "stdout",
          "text": [
            "[0. 0. 0. 0. 0. 0. 0. 1. 0. 0.] -> [0. 0. 0. 0. 0. 0. 0. 1. 0. 0.]\n",
            "[0. 0. 1. 0. 0. 0. 0. 0. 0. 0.] -> [0. 0. 1. 0. 0. 0. 0. 0. 0. 0.]\n",
            "[0. 1. 0. 0. 0. 0. 0. 0. 0. 0.] -> [0. 1. 0. 0. 0. 0. 0. 0. 0. 0.]\n",
            "[1. 0. 0. 0. 0. 0. 0. 0. 0. 0.] -> [1. 0. 0. 0. 0. 0. 0. 0. 0. 0.]\n",
            "[0. 0. 0. 0. 1. 0. 0. 0. 0. 0.] -> [0. 0. 0. 0. 1. 0. 0. 0. 0. 0.]\n",
            "[0. 1. 0. 0. 0. 0. 0. 0. 0. 0.] -> [0. 1. 0. 0. 0. 0. 0. 0. 0. 0.]\n",
            "[0. 0. 0. 0. 1. 0. 0. 0. 0. 0.] -> [0. 0. 0. 0. 1. 0. 0. 0. 0. 0.]\n",
            "[0. 0. 0. 0. 0. 0. 0. 0. 0. 1.] -> [0. 0. 0. 0. 0. 0. 0. 0. 0. 1.]\n",
            "[0.   0.   0.   0.   0.   0.19 0.81 0.   0.   0.  ] -> [0. 0. 0. 0. 0. 1. 0. 0. 0. 0.] X\n",
            "[0. 0. 0. 0. 0. 0. 0. 0. 0. 1.] -> [0. 0. 0. 0. 0. 0. 0. 0. 0. 1.]\n",
            "[1. 0. 0. 0. 0. 0. 0. 0. 0. 0.] -> [1. 0. 0. 0. 0. 0. 0. 0. 0. 0.]\n",
            "[0. 0. 0. 0. 0. 0. 1. 0. 0. 0.] -> [0. 0. 0. 0. 0. 0. 1. 0. 0. 0.]\n",
            "[0. 0. 0. 0. 0. 0. 0. 0. 0. 1.] -> [0. 0. 0. 0. 0. 0. 0. 0. 0. 1.]\n",
            "[1. 0. 0. 0. 0. 0. 0. 0. 0. 0.] -> [1. 0. 0. 0. 0. 0. 0. 0. 0. 0.]\n",
            "[0. 1. 0. 0. 0. 0. 0. 0. 0. 0.] -> [0. 1. 0. 0. 0. 0. 0. 0. 0. 0.]\n",
            "[0. 0. 0. 0. 0. 1. 0. 0. 0. 0.] -> [0. 0. 0. 0. 0. 1. 0. 0. 0. 0.]\n",
            "[0. 0. 0. 0. 0. 0. 0. 0. 0. 1.] -> [0. 0. 0. 0. 0. 0. 0. 0. 0. 1.]\n",
            "[0. 0. 0. 0. 0. 0. 0. 1. 0. 0.] -> [0. 0. 0. 0. 0. 0. 0. 1. 0. 0.]\n",
            "[0.   0.   0.04 0.96 0.   0.   0.   0.   0.   0.  ] -> [0. 0. 0. 1. 0. 0. 0. 0. 0. 0.]\n",
            "[0. 0. 0. 0. 1. 0. 0. 0. 0. 0.] -> [0. 0. 0. 0. 1. 0. 0. 0. 0. 0.]\n",
            "[0. 0. 0. 0. 0. 0. 0. 0. 0. 1.] -> [0. 0. 0. 0. 0. 0. 0. 0. 0. 1.]\n",
            "[0. 0. 0. 0. 0. 0. 1. 0. 0. 0.] -> [0. 0. 0. 0. 0. 0. 1. 0. 0. 0.]\n",
            "[0. 0. 0. 0. 0. 0. 1. 0. 0. 0.] -> [0. 0. 0. 0. 0. 0. 1. 0. 0. 0.]\n",
            "[0. 0. 0. 0. 0. 1. 0. 0. 0. 0.] -> [0. 0. 0. 0. 0. 1. 0. 0. 0. 0.]\n",
            "[0. 0. 0. 0. 1. 0. 0. 0. 0. 0.] -> [0. 0. 0. 0. 1. 0. 0. 0. 0. 0.]\n",
            "[1. 0. 0. 0. 0. 0. 0. 0. 0. 0.] -> [1. 0. 0. 0. 0. 0. 0. 0. 0. 0.]\n",
            "[0. 0. 0. 0. 0. 0. 0. 1. 0. 0.] -> [0. 0. 0. 0. 0. 0. 0. 1. 0. 0.]\n",
            "[0. 0. 0. 0. 1. 0. 0. 0. 0. 0.] -> [0. 0. 0. 0. 1. 0. 0. 0. 0. 0.]\n",
            "[0.99 0.   0.01 0.   0.   0.   0.   0.   0.   0.  ] -> [1. 0. 0. 0. 0. 0. 0. 0. 0. 0.]\n",
            "[0. 1. 0. 0. 0. 0. 0. 0. 0. 0.] -> [0. 1. 0. 0. 0. 0. 0. 0. 0. 0.]\n",
            "[0. 0. 0. 1. 0. 0. 0. 0. 0. 0.] -> [0. 0. 0. 1. 0. 0. 0. 0. 0. 0.]\n",
            "[0. 1. 0. 0. 0. 0. 0. 0. 0. 0.] -> [0. 1. 0. 0. 0. 0. 0. 0. 0. 0.]\n",
            "[0. 0. 0. 1. 0. 0. 0. 0. 0. 0.] -> [0. 0. 0. 1. 0. 0. 0. 0. 0. 0.]\n",
            "[0.13 0.   0.   0.   0.86 0.   0.01 0.   0.   0.  ] -> [0. 0. 0. 0. 1. 0. 0. 0. 0. 0.]\n",
            "[0. 0. 0. 0. 0. 0. 0. 1. 0. 0.] -> [0. 0. 0. 0. 0. 0. 0. 1. 0. 0.]\n",
            "[0.   0.   0.99 0.01 0.   0.   0.   0.   0.   0.  ] -> [0. 0. 1. 0. 0. 0. 0. 0. 0. 0.]\n",
            "[0.   0.   0.   0.01 0.   0.   0.   0.99 0.   0.  ] -> [0. 0. 0. 0. 0. 0. 0. 1. 0. 0.]\n",
            "[0. 1. 0. 0. 0. 0. 0. 0. 0. 0.] -> [0. 1. 0. 0. 0. 0. 0. 0. 0. 0.]\n",
            "[0.   0.01 0.87 0.12 0.   0.   0.   0.   0.   0.  ] -> [0. 0. 1. 0. 0. 0. 0. 0. 0. 0.]\n",
            "[0. 1. 0. 0. 0. 0. 0. 0. 0. 0.] -> [0. 1. 0. 0. 0. 0. 0. 0. 0. 0.]\n",
            "[0. 1. 0. 0. 0. 0. 0. 0. 0. 0.] -> [0. 1. 0. 0. 0. 0. 0. 0. 0. 0.]\n",
            "[0. 0. 0. 0. 0. 0. 0. 1. 0. 0.] -> [0. 0. 0. 0. 0. 0. 0. 1. 0. 0.]\n",
            "[0. 0. 0. 0. 1. 0. 0. 0. 0. 0.] -> [0. 0. 0. 0. 1. 0. 0. 0. 0. 0.]\n",
            "[0.   0.02 0.98 0.   0.   0.   0.   0.   0.   0.  ] -> [0. 0. 1. 0. 0. 0. 0. 0. 0. 0.]\n",
            "[0.   0.01 0.   0.99 0.   0.   0.   0.   0.   0.  ] -> [0. 0. 0. 1. 0. 0. 0. 0. 0. 0.]\n",
            "[0. 0. 0. 0. 0. 1. 0. 0. 0. 0.] -> [0. 0. 0. 0. 0. 1. 0. 0. 0. 0.]\n",
            "[0. 1. 0. 0. 0. 0. 0. 0. 0. 0.] -> [0. 1. 0. 0. 0. 0. 0. 0. 0. 0.]\n",
            "[0. 0. 1. 0. 0. 0. 0. 0. 0. 0.] -> [0. 0. 1. 0. 0. 0. 0. 0. 0. 0.]\n",
            "[0. 0. 0. 0. 1. 0. 0. 0. 0. 0.] -> [0. 0. 0. 0. 1. 0. 0. 0. 0. 0.]\n",
            "[0. 0. 0. 0. 1. 0. 0. 0. 0. 0.] -> [0. 0. 0. 0. 1. 0. 0. 0. 0. 0.]\n",
            "[0. 0. 0. 0. 0. 0. 1. 0. 0. 0.] -> [0. 0. 0. 0. 0. 0. 1. 0. 0. 0.]\n",
            "[0. 0. 0. 1. 0. 0. 0. 0. 0. 0.] -> [0. 0. 0. 1. 0. 0. 0. 0. 0. 0.]\n",
            "[0. 0. 0. 0. 0. 1. 0. 0. 0. 0.] -> [0. 0. 0. 0. 0. 1. 0. 0. 0. 0.]\n",
            "[0. 0. 0. 0. 0. 1. 0. 0. 0. 0.] -> [0. 0. 0. 0. 0. 1. 0. 0. 0. 0.]\n",
            "[0. 0. 0. 0. 0. 0. 1. 0. 0. 0.] -> [0. 0. 0. 0. 0. 0. 1. 0. 0. 0.]\n",
            "[1. 0. 0. 0. 0. 0. 0. 0. 0. 0.] -> [1. 0. 0. 0. 0. 0. 0. 0. 0. 0.]\n",
            "[0. 0. 0. 0. 1. 0. 0. 0. 0. 0.] -> [0. 0. 0. 0. 1. 0. 0. 0. 0. 0.]\n",
            "[0. 1. 0. 0. 0. 0. 0. 0. 0. 0.] -> [0. 1. 0. 0. 0. 0. 0. 0. 0. 0.]\n",
            "[0. 0. 0. 0. 0. 0. 0. 0. 0. 1.] -> [0. 0. 0. 0. 0. 0. 0. 0. 0. 1.]\n",
            "[0.   0.   0.   0.   0.   0.99 0.   0.01 0.   0.  ] -> [0. 0. 0. 0. 0. 1. 0. 0. 0. 0.]\n",
            "[0. 0. 0. 0. 0. 0. 0. 1. 0. 0.] -> [0. 0. 0. 0. 0. 0. 0. 1. 0. 0.]\n",
            "[0.   0.   0.01 0.   0.   0.   0.   0.   0.99 0.  ] -> [0. 0. 0. 0. 0. 0. 0. 0. 1. 0.]\n",
            "[0.   0.   0.   0.   0.   0.   0.   0.   0.   0.99] -> [0. 0. 0. 0. 0. 0. 0. 0. 0. 1.]\n",
            "[0.   0.   0.02 0.98 0.   0.   0.   0.   0.   0.  ] -> [0. 0. 0. 1. 0. 0. 0. 0. 0. 0.]\n",
            "[0. 0. 0. 0. 0. 0. 0. 1. 0. 0.] -> [0. 0. 0. 0. 0. 0. 0. 1. 0. 0.]\n",
            "[0. 0. 0. 0. 1. 0. 0. 0. 0. 0.] -> [0. 0. 0. 0. 1. 0. 0. 0. 0. 0.]\n",
            "[0.   0.01 0.51 0.   0.08 0.   0.12 0.29 0.   0.  ] -> [0. 0. 0. 0. 0. 0. 1. 0. 0. 0.] X\n",
            "[0. 0. 0. 0. 1. 0. 0. 0. 0. 0.] -> [0. 0. 0. 0. 1. 0. 0. 0. 0. 0.]\n",
            "[0. 0. 0. 1. 0. 0. 0. 0. 0. 0.] -> [0. 0. 0. 1. 0. 0. 0. 0. 0. 0.]\n",
            "[1. 0. 0. 0. 0. 0. 0. 0. 0. 0.] -> [1. 0. 0. 0. 0. 0. 0. 0. 0. 0.]\n",
            "[0. 0. 0. 0. 0. 0. 0. 1. 0. 0.] -> [0. 0. 0. 0. 0. 0. 0. 1. 0. 0.]\n",
            "[1. 0. 0. 0. 0. 0. 0. 0. 0. 0.] -> [1. 0. 0. 0. 0. 0. 0. 0. 0. 0.]\n",
            "[0.   0.   0.99 0.   0.   0.   0.   0.   0.   0.  ] -> [0. 0. 1. 0. 0. 0. 0. 0. 0. 0.]\n",
            "[0.   0.   0.   0.   0.   0.   0.   0.1  0.01 0.89] -> [0. 0. 0. 0. 0. 0. 0. 0. 0. 1.]\n",
            "[0. 1. 0. 0. 0. 0. 0. 0. 0. 0.] -> [0. 1. 0. 0. 0. 0. 0. 0. 0. 0.]\n",
            "[0. 0. 0. 0. 0. 0. 0. 1. 0. 0.] -> [0. 0. 0. 0. 0. 0. 0. 1. 0. 0.]\n",
            "[0. 0. 0. 1. 0. 0. 0. 0. 0. 0.] -> [0. 0. 0. 1. 0. 0. 0. 0. 0. 0.]\n",
            "[0.01 0.   0.98 0.   0.   0.   0.   0.   0.   0.  ] -> [0. 0. 1. 0. 0. 0. 0. 0. 0. 0.]\n",
            "[0. 0. 0. 0. 0. 0. 0. 0. 0. 1.] -> [0. 0. 0. 0. 0. 0. 0. 0. 0. 1.]\n",
            "[0. 0. 0. 0. 0. 0. 0. 1. 0. 0.] -> [0. 0. 0. 0. 0. 0. 0. 1. 0. 0.]\n",
            "[0. 0. 0. 0. 0. 0. 0. 1. 0. 0.] -> [0. 0. 0. 0. 0. 0. 0. 1. 0. 0.]\n",
            "[0. 0. 0. 0. 0. 0. 1. 0. 0. 0.] -> [0. 0. 0. 0. 0. 0. 1. 0. 0. 0.]\n",
            "[0. 0. 1. 0. 0. 0. 0. 0. 0. 0.] -> [0. 0. 1. 0. 0. 0. 0. 0. 0. 0.]\n",
            "[0. 0. 0. 0. 0. 0. 0. 1. 0. 0.] -> [0. 0. 0. 0. 0. 0. 0. 1. 0. 0.]\n",
            "[0. 0. 0. 0. 0. 0. 0. 0. 1. 0.] -> [0. 0. 0. 0. 0. 0. 0. 0. 1. 0.]\n",
            "[0. 0. 0. 0. 1. 0. 0. 0. 0. 0.] -> [0. 0. 0. 0. 1. 0. 0. 0. 0. 0.]\n",
            "[0. 0. 0. 0. 0. 0. 0. 1. 0. 0.] -> [0. 0. 0. 0. 0. 0. 0. 1. 0. 0.]\n",
            "[0. 0. 0. 1. 0. 0. 0. 0. 0. 0.] -> [0. 0. 0. 1. 0. 0. 0. 0. 0. 0.]\n",
            "[0. 0. 0. 0. 0. 0. 1. 0. 0. 0.] -> [0. 0. 0. 0. 0. 0. 1. 0. 0. 0.]\n",
            "[0. 1. 0. 0. 0. 0. 0. 0. 0. 0.] -> [0. 1. 0. 0. 0. 0. 0. 0. 0. 0.]\n",
            "[0. 0. 0. 1. 0. 0. 0. 0. 0. 0.] -> [0. 0. 0. 1. 0. 0. 0. 0. 0. 0.]\n",
            "[0. 0. 0. 0. 0. 0. 1. 0. 0. 0.] -> [0. 0. 0. 0. 0. 0. 1. 0. 0. 0.]\n",
            "[0.   0.   0.   0.   0.01 0.   0.   0.   0.   0.99] -> [0. 0. 0. 0. 0. 0. 0. 0. 0. 1.]\n",
            "[0. 0. 0. 1. 0. 0. 0. 0. 0. 0.] -> [0. 0. 0. 1. 0. 0. 0. 0. 0. 0.]\n",
            "[0.   0.99 0.   0.   0.   0.   0.   0.   0.01 0.  ] -> [0. 1. 0. 0. 0. 0. 0. 0. 0. 0.]\n",
            "[0. 0. 0. 0. 1. 0. 0. 0. 0. 0.] -> [0. 0. 0. 0. 1. 0. 0. 0. 0. 0.]\n",
            "[0.   0.66 0.   0.   0.19 0.   0.   0.01 0.01 0.13] -> [0. 1. 0. 0. 0. 0. 0. 0. 0. 0.]\n",
            "[0. 0. 0. 0. 0. 0. 0. 1. 0. 0.] -> [0. 0. 0. 0. 0. 0. 0. 1. 0. 0.]\n",
            "[0.   0.   0.   0.   0.   0.   0.99 0.   0.   0.  ] -> [0. 0. 0. 0. 0. 0. 1. 0. 0. 0.]\n",
            "[0. 0. 0. 0. 0. 0. 0. 0. 0. 1.] -> [0. 0. 0. 0. 0. 0. 0. 0. 0. 1.]\n"
          ]
        }
      ]
    },
    {
      "cell_type": "code",
      "source": [
        "from google.colab import files\n",
        "# Guardamos el modelo\n",
        "model.save(\"modelo_mnist.h5\")\n",
        "print(\"✅ Modelo guardado como 'modelo_mnist.h5'\")\n",
        "files.download(\"modelo_mnist.h5\")"
      ],
      "metadata": {
        "colab": {
          "base_uri": "https://localhost:8080/",
          "height": 72
        },
        "id": "cYTb5KCF2-Hs",
        "outputId": "007ad2b6-c3e4-4c82-a633-ca43469be25a"
      },
      "execution_count": 52,
      "outputs": [
        {
          "output_type": "stream",
          "name": "stderr",
          "text": [
            "WARNING:absl:You are saving your model as an HDF5 file via `model.save()` or `keras.saving.save_model(model)`. This file format is considered legacy. We recommend using instead the native Keras format, e.g. `model.save('my_model.keras')` or `keras.saving.save_model(model, 'my_model.keras')`. \n"
          ]
        },
        {
          "output_type": "stream",
          "name": "stdout",
          "text": [
            "✅ Modelo guardado como 'modelo_mnist.h5'\n"
          ]
        },
        {
          "output_type": "display_data",
          "data": {
            "text/plain": [
              "<IPython.core.display.Javascript object>"
            ],
            "application/javascript": [
              "\n",
              "    async function download(id, filename, size) {\n",
              "      if (!google.colab.kernel.accessAllowed) {\n",
              "        return;\n",
              "      }\n",
              "      const div = document.createElement('div');\n",
              "      const label = document.createElement('label');\n",
              "      label.textContent = `Downloading \"${filename}\": `;\n",
              "      div.appendChild(label);\n",
              "      const progress = document.createElement('progress');\n",
              "      progress.max = size;\n",
              "      div.appendChild(progress);\n",
              "      document.body.appendChild(div);\n",
              "\n",
              "      const buffers = [];\n",
              "      let downloaded = 0;\n",
              "\n",
              "      const channel = await google.colab.kernel.comms.open(id);\n",
              "      // Send a message to notify the kernel that we're ready.\n",
              "      channel.send({})\n",
              "\n",
              "      for await (const message of channel.messages) {\n",
              "        // Send a message to notify the kernel that we're ready.\n",
              "        channel.send({})\n",
              "        if (message.buffers) {\n",
              "          for (const buffer of message.buffers) {\n",
              "            buffers.push(buffer);\n",
              "            downloaded += buffer.byteLength;\n",
              "            progress.value = downloaded;\n",
              "          }\n",
              "        }\n",
              "      }\n",
              "      const blob = new Blob(buffers, {type: 'application/binary'});\n",
              "      const a = document.createElement('a');\n",
              "      a.href = window.URL.createObjectURL(blob);\n",
              "      a.download = filename;\n",
              "      div.appendChild(a);\n",
              "      a.click();\n",
              "      div.remove();\n",
              "    }\n",
              "  "
            ]
          },
          "metadata": {}
        },
        {
          "output_type": "display_data",
          "data": {
            "text/plain": [
              "<IPython.core.display.Javascript object>"
            ],
            "application/javascript": [
              "download(\"download_5a5ebb8b-49d3-47a2-82ca-a87bd4a159e4\", \"modelo_mnist.h5\", 178656)"
            ]
          },
          "metadata": {}
        }
      ]
    },
    {
      "cell_type": "code",
      "source": [
        "from tensorflow.keras.models import load_model\n",
        "\n",
        "# 📌 Recompilar con categorical_crossentropy antes de guardarlo\n",
        "model.compile(loss='categorical_crossentropy', optimizer='sgd', metrics=['accuracy'])\n",
        "\n",
        "# 📌 Guardar el modelo en formato HDF5\n",
        "model.save(\"modelo_mnist.h5\")\n",
        "\n",
        "print(\"✅ Modelo guardado correctamente con categorical_crossentropy\")\n",
        "files.download(\"modelo_mnist.h5\")\n"
      ],
      "metadata": {
        "colab": {
          "base_uri": "https://localhost:8080/",
          "height": 72
        },
        "id": "yi3hXsXD6RyD",
        "outputId": "a27673c2-a92c-4644-9380-91c1e9c4a01e"
      },
      "execution_count": 53,
      "outputs": [
        {
          "output_type": "stream",
          "name": "stderr",
          "text": [
            "WARNING:absl:You are saving your model as an HDF5 file via `model.save()` or `keras.saving.save_model(model)`. This file format is considered legacy. We recommend using instead the native Keras format, e.g. `model.save('my_model.keras')` or `keras.saving.save_model(model, 'my_model.keras')`. \n"
          ]
        },
        {
          "output_type": "stream",
          "name": "stdout",
          "text": [
            "✅ Modelo guardado correctamente con categorical_crossentropy\n"
          ]
        },
        {
          "output_type": "display_data",
          "data": {
            "text/plain": [
              "<IPython.core.display.Javascript object>"
            ],
            "application/javascript": [
              "\n",
              "    async function download(id, filename, size) {\n",
              "      if (!google.colab.kernel.accessAllowed) {\n",
              "        return;\n",
              "      }\n",
              "      const div = document.createElement('div');\n",
              "      const label = document.createElement('label');\n",
              "      label.textContent = `Downloading \"${filename}\": `;\n",
              "      div.appendChild(label);\n",
              "      const progress = document.createElement('progress');\n",
              "      progress.max = size;\n",
              "      div.appendChild(progress);\n",
              "      document.body.appendChild(div);\n",
              "\n",
              "      const buffers = [];\n",
              "      let downloaded = 0;\n",
              "\n",
              "      const channel = await google.colab.kernel.comms.open(id);\n",
              "      // Send a message to notify the kernel that we're ready.\n",
              "      channel.send({})\n",
              "\n",
              "      for await (const message of channel.messages) {\n",
              "        // Send a message to notify the kernel that we're ready.\n",
              "        channel.send({})\n",
              "        if (message.buffers) {\n",
              "          for (const buffer of message.buffers) {\n",
              "            buffers.push(buffer);\n",
              "            downloaded += buffer.byteLength;\n",
              "            progress.value = downloaded;\n",
              "          }\n",
              "        }\n",
              "      }\n",
              "      const blob = new Blob(buffers, {type: 'application/binary'});\n",
              "      const a = document.createElement('a');\n",
              "      a.href = window.URL.createObjectURL(blob);\n",
              "      a.download = filename;\n",
              "      div.appendChild(a);\n",
              "      a.click();\n",
              "      div.remove();\n",
              "    }\n",
              "  "
            ]
          },
          "metadata": {}
        },
        {
          "output_type": "display_data",
          "data": {
            "text/plain": [
              "<IPython.core.display.Javascript object>"
            ],
            "application/javascript": [
              "download(\"download_eecbcc8e-4c7f-4c70-8386-b2947e4eb3b2\", \"modelo_mnist.h5\", 178656)"
            ]
          },
          "metadata": {}
        }
      ]
    }
  ]
}
